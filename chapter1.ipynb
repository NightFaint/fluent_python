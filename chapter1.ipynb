{
 "cells": [
  {
   "cell_type": "heading",
   "metadata": {},
   "level": 1,
   "source": [
    "1. python数据类型"
   ]
  },
  {
   "cell_type": "markdown",
   "metadata": {},
   "source": [
    "1.1 一摞Python风格的纸牌 "
   ]
  },
  {
   "cell_type": "markdown",
   "metadata": {},
   "source": [
    "nametuple用于构建只有少数属性但是没有方法的对象，比如数据库条目。如下面利用namedtuple得到一个纸牌对象"
   ]
  },
  {
   "cell_type": "code",
   "execution_count": 2,
   "metadata": {
    "collapsed": true
   },
   "outputs": [],
   "source": [
    "import collections\n",
    "Card = collections.namedtuple('Card',['rank','suit'])"
   ]
  },
  {
   "cell_type": "code",
   "execution_count": 3,
   "metadata": {},
   "outputs": [],
   "source": [
    "class FrenchDeck():\n",
    "    ranks=[str(n) for n in range(2,11)]+list('JQKA')\n",
    "    suits = 'spades diamonds clubs hearts'.split()\n",
    "    def __init__(self):\n",
    "        self._card = [Card(rank,suit) for suit in self.suits\n",
    "                      for rank in self.ranks]\n",
    "    \n",
    "    def __len__(self):\n",
    "        return len(self._card)\n",
    "    \n",
    "    def __getitem__(self, position):\n",
    "        return self._card[position]"
   ]
  },
  {
   "cell_type": "markdown",
   "metadata": {},
   "source": [
    "nametuple用于构建只有少数属性但是没有方法的对象，比如数据库条目。如下面利用namedtuple得到一个纸牌对象"
   ]
  },
  {
   "cell_type": "code",
   "execution_count": 4,
   "metadata": {},
   "outputs": [
    {
     "data": {
      "text/plain": [
       "Card(rank='7', suit='diamonds')"
      ]
     },
     "execution_count": 4,
     "metadata": {},
     "output_type": "execute_result"
    }
   ],
   "source": [
    "beer_card = Card('7','diamonds')\n",
    "beer_card"
   ]
  },
  {
   "cell_type": "code",
   "execution_count": 5,
   "metadata": {},
   "outputs": [],
   "source": [
    "deck=FrenchDeck()"
   ]
  },
  {
   "cell_type": "code",
   "execution_count": 6,
   "metadata": {},
   "outputs": [
    {
     "data": {
      "text/plain": [
       "52"
      ]
     },
     "execution_count": 6,
     "metadata": {},
     "output_type": "execute_result"
    }
   ],
   "source": [
    "len(deck)"
   ]
  },
  {
   "cell_type": "code",
   "execution_count": 7,
   "metadata": {},
   "outputs": [
    {
     "data": {
      "text/plain": [
       "Card(rank='2', suit='spades')"
      ]
     },
     "execution_count": 7,
     "metadata": {},
     "output_type": "execute_result"
    }
   ],
   "source": [
    "deck[0]"
   ]
  },
  {
   "cell_type": "code",
   "execution_count": 8,
   "metadata": {},
   "outputs": [
    {
     "data": {
      "text/plain": [
       "Card(rank='A', suit='hearts')"
      ]
     },
     "execution_count": 8,
     "metadata": {},
     "output_type": "execute_result"
    }
   ],
   "source": [
    "deck[-1]"
   ]
  },
  {
   "cell_type": "markdown",
   "metadata": {},
   "source": [
    "不需要单独写一个方法来随机抽取一张纸牌，python内置了一个从序列中随机选出一个元素的random.choice."
   ]
  },
  {
   "cell_type": "code",
   "execution_count": 9,
   "metadata": {},
   "outputs": [
    {
     "data": {
      "text/plain": [
       "Card(rank='J', suit='diamonds')"
      ]
     },
     "execution_count": 9,
     "metadata": {},
     "output_type": "execute_result"
    }
   ],
   "source": [
    "from random import  choice\n",
    "choice(deck)"
   ]
  },
  {
   "cell_type": "code",
   "execution_count": 10,
   "metadata": {},
   "outputs": [
    {
     "data": {
      "text/plain": [
       "Card(rank='5', suit='hearts')"
      ]
     },
     "execution_count": 10,
     "metadata": {},
     "output_type": "execute_result"
    }
   ],
   "source": [
    "choice(deck)"
   ]
  },
  {
   "cell_type": "markdown",
   "metadata": {},
   "source": [
    "现在可以体会到通过实现特殊方法（__getitem__等)来利用python数据模型的好处:1.作为类的用户，不必记得标准操作的各式名称（怎样得到总数,.size()还是.length()或其他）"
   ]
  },
  {
   "cell_type": "code",
   "execution_count": 13,
   "metadata": {},
   "outputs": [
    {
     "data": {
      "text/plain": [
       "[Card(rank='2', suit='spades'),\n Card(rank='3', suit='spades'),\n Card(rank='4', suit='spades')]"
      ]
     },
     "execution_count": 13,
     "metadata": {},
     "output_type": "execute_result"
    }
   ],
   "source": [
    "deck[:3]"
   ]
  },
  {
   "cell_type": "code",
   "execution_count": 12,
   "metadata": {},
   "outputs": [
    {
     "data": {
      "text/plain": [
       "[Card(rank='A', suit='spades'),\n Card(rank='A', suit='diamonds'),\n Card(rank='A', suit='clubs'),\n Card(rank='A', suit='hearts')]"
      ]
     },
     "execution_count": 12,
     "metadata": {},
     "output_type": "execute_result"
    }
   ],
   "source": [
    "deck[12::13] #先抽出索引是12的排，再每隔13张牌拿一张"
   ]
  },
  {
   "cell_type": "code",
   "execution_count": 14,
   "metadata": {},
   "outputs": [
    {
     "name": "stdout",
     "output_type": "stream",
     "text": [
      "Card(rank='2', suit='spades')\nCard(rank='3', suit='spades')\nCard(rank='4', suit='spades')\nCard(rank='5', suit='spades')\nCard(rank='6', suit='spades')\nCard(rank='7', suit='spades')\nCard(rank='8', suit='spades')\nCard(rank='9', suit='spades')\nCard(rank='10', suit='spades')\nCard(rank='J', suit='spades')\nCard(rank='Q', suit='spades')\nCard(rank='K', suit='spades')\nCard(rank='A', suit='spades')\nCard(rank='2', suit='diamonds')\nCard(rank='3', suit='diamonds')\nCard(rank='4', suit='diamonds')\nCard(rank='5', suit='diamonds')\nCard(rank='6', suit='diamonds')\nCard(rank='7', suit='diamonds')\nCard(rank='8', suit='diamonds')\nCard(rank='9', suit='diamonds')\nCard(rank='10', suit='diamonds')\nCard(rank='J', suit='diamonds')\nCard(rank='Q', suit='diamonds')\nCard(rank='K', suit='diamonds')\nCard(rank='A', suit='diamonds')\nCard(rank='2', suit='clubs')\nCard(rank='3', suit='clubs')\nCard(rank='4', suit='clubs')\nCard(rank='5', suit='clubs')\nCard(rank='6', suit='clubs')\nCard(rank='7', suit='clubs')\nCard(rank='8', suit='clubs')\nCard(rank='9', suit='clubs')\nCard(rank='10', suit='clubs')\nCard(rank='J', suit='clubs')\nCard(rank='Q', suit='clubs')\nCard(rank='K', suit='clubs')\nCard(rank='A', suit='clubs')\nCard(rank='2', suit='hearts')\nCard(rank='3', suit='hearts')\nCard(rank='4', suit='hearts')\nCard(rank='5', suit='hearts')\nCard(rank='6', suit='hearts')\nCard(rank='7', suit='hearts')\nCard(rank='8', suit='hearts')\nCard(rank='9', suit='hearts')\nCard(rank='10', suit='hearts')\nCard(rank='J', suit='hearts')\nCard(rank='Q', suit='hearts')\nCard(rank='K', suit='hearts')\nCard(rank='A', suit='hearts')\n"
     ]
    }
   ],
   "source": [
    "for card in deck:\n",
    "    print(card)"
   ]
  },
  {
   "cell_type": "code",
   "execution_count": 15,
   "metadata": {},
   "outputs": [
    {
     "name": "stdout",
     "output_type": "stream",
     "text": [
      "Card(rank='A', suit='hearts')\nCard(rank='K', suit='hearts')\nCard(rank='Q', suit='hearts')\nCard(rank='J', suit='hearts')\nCard(rank='10', suit='hearts')\nCard(rank='9', suit='hearts')\nCard(rank='8', suit='hearts')\nCard(rank='7', suit='hearts')\nCard(rank='6', suit='hearts')\nCard(rank='5', suit='hearts')\nCard(rank='4', suit='hearts')\nCard(rank='3', suit='hearts')\nCard(rank='2', suit='hearts')\nCard(rank='A', suit='clubs')\nCard(rank='K', suit='clubs')\nCard(rank='Q', suit='clubs')\nCard(rank='J', suit='clubs')\nCard(rank='10', suit='clubs')\nCard(rank='9', suit='clubs')\nCard(rank='8', suit='clubs')\nCard(rank='7', suit='clubs')\nCard(rank='6', suit='clubs')\nCard(rank='5', suit='clubs')\nCard(rank='4', suit='clubs')\nCard(rank='3', suit='clubs')\nCard(rank='2', suit='clubs')\nCard(rank='A', suit='diamonds')\nCard(rank='K', suit='diamonds')\nCard(rank='Q', suit='diamonds')\nCard(rank='J', suit='diamonds')\nCard(rank='10', suit='diamonds')\nCard(rank='9', suit='diamonds')\nCard(rank='8', suit='diamonds')\nCard(rank='7', suit='diamonds')\nCard(rank='6', suit='diamonds')\nCard(rank='5', suit='diamonds')\nCard(rank='4', suit='diamonds')\nCard(rank='3', suit='diamonds')\nCard(rank='2', suit='diamonds')\nCard(rank='A', suit='spades')\nCard(rank='K', suit='spades')\nCard(rank='Q', suit='spades')\nCard(rank='J', suit='spades')\nCard(rank='10', suit='spades')\nCard(rank='9', suit='spades')\nCard(rank='8', suit='spades')\nCard(rank='7', suit='spades')\nCard(rank='6', suit='spades')\nCard(rank='5', suit='spades')\nCard(rank='4', suit='spades')\nCard(rank='3', suit='spades')\nCard(rank='2', suit='spades')\n"
     ]
    }
   ],
   "source": [
    "for card in reversed(deck):#反向迭代\n",
    "    print(card)"
   ]
  },
  {
   "cell_type": "code",
   "execution_count": 18,
   "metadata": {},
   "outputs": [
    {
     "data": {
      "text/plain": [
       "True"
      ]
     },
     "execution_count": 18,
     "metadata": {},
     "output_type": "execute_result"
    }
   ],
   "source": [
    "Card('Q','hearts') in deck"
   ]
  },
  {
   "cell_type": "markdown",
   "metadata": {},
   "source": [
    "迭代通常是隐式的，譬如一个集合没有实现__contains__方法，那么in运算符就会按顺序做一次迭代搜索"
   ]
  },
  {
   "cell_type": "code",
   "execution_count": 19,
   "metadata": {},
   "outputs": [
    {
     "data": {
      "text/plain": [
       "False"
      ]
     },
     "execution_count": 19,
     "metadata": {},
     "output_type": "execute_result"
    }
   ],
   "source": [
    "Card('7','beasts') in deck"
   ]
  },
  {
   "cell_type": "markdown",
   "metadata": {},
   "source": [
    "排序"
   ]
  },
  {
   "cell_type": "code",
   "execution_count": 20,
   "metadata": {},
   "outputs": [],
   "source": [
    "suit_values = dict(spades=3,hearts=2,diamonds=1,clubs=0)\n",
    "def spades_high(card):\n",
    "    rank_value=FrenchDeck.ranks.index(card.rank)\n",
    "    return  rank_value*len(suit_values)+suit_values[card.suit]"
   ]
  },
  {
   "cell_type": "code",
   "execution_count": 21,
   "metadata": {},
   "outputs": [
    {
     "name": "stdout",
     "output_type": "stream",
     "text": [
      "Card(rank='2', suit='clubs')\nCard(rank='2', suit='diamonds')\nCard(rank='2', suit='hearts')\nCard(rank='2', suit='spades')\nCard(rank='3', suit='clubs')\nCard(rank='3', suit='diamonds')\nCard(rank='3', suit='hearts')\nCard(rank='3', suit='spades')\nCard(rank='4', suit='clubs')\nCard(rank='4', suit='diamonds')\nCard(rank='4', suit='hearts')\nCard(rank='4', suit='spades')\nCard(rank='5', suit='clubs')\nCard(rank='5', suit='diamonds')\nCard(rank='5', suit='hearts')\nCard(rank='5', suit='spades')\nCard(rank='6', suit='clubs')\nCard(rank='6', suit='diamonds')\nCard(rank='6', suit='hearts')\nCard(rank='6', suit='spades')\nCard(rank='7', suit='clubs')\nCard(rank='7', suit='diamonds')\nCard(rank='7', suit='hearts')\nCard(rank='7', suit='spades')\nCard(rank='8', suit='clubs')\nCard(rank='8', suit='diamonds')\nCard(rank='8', suit='hearts')\nCard(rank='8', suit='spades')\nCard(rank='9', suit='clubs')\nCard(rank='9', suit='diamonds')\nCard(rank='9', suit='hearts')\nCard(rank='9', suit='spades')\nCard(rank='10', suit='clubs')\nCard(rank='10', suit='diamonds')\nCard(rank='10', suit='hearts')\nCard(rank='10', suit='spades')\nCard(rank='J', suit='clubs')\nCard(rank='J', suit='diamonds')\nCard(rank='J', suit='hearts')\nCard(rank='J', suit='spades')\nCard(rank='Q', suit='clubs')\nCard(rank='Q', suit='diamonds')\nCard(rank='Q', suit='hearts')\nCard(rank='Q', suit='spades')\nCard(rank='K', suit='clubs')\nCard(rank='K', suit='diamonds')\nCard(rank='K', suit='hearts')\nCard(rank='K', suit='spades')\nCard(rank='A', suit='clubs')\nCard(rank='A', suit='diamonds')\nCard(rank='A', suit='hearts')\nCard(rank='A', suit='spades')\n"
     ]
    }
   ],
   "source": [
    "for card in sorted(deck,key=spades_high):\n",
    "    print(card)"
   ]
  },
  {
   "cell_type": "heading",
   "metadata": {},
   "level": 2,
   "source": [
    "1.2 如何使用特殊方法"
   ]
  },
  {
   "cell_type": "markdown",
   "metadata": {},
   "source": [
    "不写成my_object.__len__()，而是写成len(my_object)\n",
    "如是python内置类型，如列表、字符串等CPython会抄近路，__len__实际上直接返回PyVarObject里的ob_size属性，快很多。\n",
    "for i in x:这个语句，背后实际调用了iter(x),这背后是x.__iter__()方法"
   ]
  },
  {
   "cell_type": "heading",
   "metadata": {},
   "level": 3,
   "source": [
    "1.2.1 模拟数值类型"
   ]
  },
  {
   "cell_type": "code",
   "execution_count": 30,
   "metadata": {},
   "outputs": [],
   "source": [
    "from math import hypot\n",
    "class Vector:\n",
    "    def __init__(self,x=0,y=0):\n",
    "        self.x=x\n",
    "        self.y=y\n",
    "        \n",
    "    def __repr__(self):\n",
    "        return 'Vector(%r,%r)'%(self.x,self.y)\n",
    "    \n",
    "    def __abs__(self):\n",
    "        return hypot(self.x,self.y)\n",
    "    \n",
    "    def __bool__(self):\n",
    "        return bool(abs(self))\n",
    "    \n",
    "    def __add__(self, other):\n",
    "        x=self.x+other.x\n",
    "        y = self.y+other.y\n",
    "        return Vector(x,y)\n",
    "    \n",
    "    def __mul__(self, scalar):\n",
    "        x=self.x*scalar\n",
    "        y=self.y*scalar\n",
    "        return Vector(x,y)"
   ]
  },
  {
   "cell_type": "code",
   "execution_count": 31,
   "metadata": {},
   "outputs": [
    {
     "data": {
      "text/plain": [
       "Vector(4,5)"
      ]
     },
     "execution_count": 31,
     "metadata": {},
     "output_type": "execute_result"
    }
   ],
   "source": [
    "v1=Vector(2,4)\n",
    "v2=Vector(2,1)\n",
    "v1+v2"
   ]
  },
  {
   "cell_type": "code",
   "execution_count": 32,
   "metadata": {},
   "outputs": [
    {
     "data": {
      "text/plain": [
       "4.47213595499958"
      ]
     },
     "execution_count": 32,
     "metadata": {},
     "output_type": "execute_result"
    }
   ],
   "source": [
    "abs(v1)"
   ]
  },
  {
   "cell_type": "code",
   "execution_count": 33,
   "metadata": {},
   "outputs": [
    {
     "data": {
      "text/plain": [
       "Vector(6,12)"
      ]
     },
     "execution_count": 33,
     "metadata": {},
     "output_type": "execute_result"
    }
   ],
   "source": [
    "v1*3"
   ]
  },
  {
   "cell_type": "code",
   "execution_count": 34,
   "metadata": {},
   "outputs": [
    {
     "data": {
      "text/plain": [
       "True"
      ]
     },
     "execution_count": 34,
     "metadata": {},
     "output_type": "execute_result"
    }
   ],
   "source": [
    "bool(v1)"
   ]
  },
  {
   "cell_type": "heading",
   "metadata": {},
   "level": 3,
   "source": [
    "1.2.2 字符串表示形式"
   ]
  },
  {
   "cell_type": "markdown",
   "metadata": {},
   "source": [
    "__repr__和__str__的区别"
   ]
  },
  {
   "cell_type": "heading",
   "metadata": {},
   "level": 3,
   "source": [
    "1.2.3 算术运算符"
   ]
  },
  {
   "cell_type": "heading",
   "metadata": {},
   "level": 3,
   "source": [
    "1.2.4 自定义布尔值"
   ]
  },
  {
   "cell_type": "heading",
   "metadata": {},
   "level": 2,
   "source": [
    "1.3 特殊方法一览"
   ]
  },
  {
   "cell_type": "markdown",
   "metadata": {},
   "source": [
    "![text](image/chapter1_3.jpg)"
   ]
  }
 ],
 "metadata": {
  "kernelspec": {
   "display_name": "Python 2",
   "language": "python",
   "name": "python2"
  },
  "language_info": {
   "codemirror_mode": {
    "name": "ipython",
    "version": 2
   },
   "file_extension": ".py",
   "mimetype": "text/x-python",
   "name": "python",
   "nbconvert_exporter": "python",
   "pygments_lexer": "ipython2",
   "version": "2.7.6"
  }
 },
 "nbformat": 4,
 "nbformat_minor": 0
}
