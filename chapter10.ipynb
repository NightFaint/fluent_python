{
 "cells": [
  {
   "cell_type": "markdown",
   "metadata": {
    "collapsed": true
   },
   "source": [
    "第十章序列的修改、散列和切片\n"
   ]
  },
  {
   "cell_type": "markdown",
   "metadata": {},
   "source": [
    "10.1 Vector类：用户定义的序列类型"
   ]
  },
  {
   "cell_type": "markdown",
   "metadata": {},
   "source": [
    "10.2 Vector类第1版：与Vector2d兼容"
   ]
  },
  {
   "cell_type": "code",
   "execution_count": 1,
   "metadata": {},
   "outputs": [
    {
     "data": {
      "text/plain": [
       "array('d', [1.0, 2.0, 3.0])"
      ]
     },
     "execution_count": 1,
     "metadata": {},
     "output_type": "execute_result"
    }
   ],
   "source": [
    "from array import array\n",
    "array('d',[1,2,3])"
   ]
  },
  {
   "cell_type": "code",
   "execution_count": 9,
   "metadata": {},
   "outputs": [
    {
     "data": {
      "text/plain": [
       "\"array('d', [0.0, 1.0, 2.0, 3.0, 4.0, ...])\""
      ]
     },
     "execution_count": 9,
     "metadata": {},
     "output_type": "execute_result"
    }
   ],
   "source": [
    "import reprlib\n",
    "reprlib.repr(array('d',range(10)))"
   ]
  },
  {
   "cell_type": "code",
   "execution_count": 2,
   "metadata": {},
   "outputs": [],
   "source": [
    "from array import array\n",
    "import reprlib\n",
    "import math\n",
    "\n",
    "#序列类型的构造方法最后接受可迭代的对象为参数，因为所有内置的序列类型都是这样\n",
    "class Vector:\n",
    "    typecode='d'\n",
    "    \n",
    "    def __init__(self,components):\n",
    "        self._component = array(self.typecode,components)\n",
    "    \n",
    "    def __iter__(self):\n",
    "        return iter(self._component)\n",
    "    \n",
    "    def __repr__(self):\n",
    "        components = reprlib.repr(self._component)#reprlib模块可以生成长度有限的表示形式\n",
    "        components = components[components.find('['):-1]#把字符串插入Vector的构造方法调用之前，去掉前面arra('d'和后面的)\n",
    "        return 'Vector({})'.format(components)\n",
    "    \n",
    "    def __str__(self):\n",
    "        return str(tuple(self))\n",
    "    \n",
    "    def __bytes__(self):\n",
    "        return (bytes[ord(self.typecode)])+bytes(self._component)\n",
    "    \n",
    "    def __eq__(self, other):\n",
    "        return tuple(self)==tuple(other)\n",
    "    \n",
    "    def __abs__(self):\n",
    "        return math.sqrt(sum(x*x for x in self))\n",
    "    \n",
    "    def __bool__(self):\n",
    "        return bool(abs(self))\n",
    "    \n",
    "    @classmethod\n",
    "    def frombytes(cls,octets):\n",
    "        typecode=chr(octets[0])\n",
    "        memv = memoryview(octets[1:]).cast(typecode)\n",
    "        return cls(memv)#不用像上一章一样使用*拆包，因为Vector是可迭代的"
   ]
  },
  {
   "cell_type": "code",
   "execution_count": 3,
   "metadata": {},
   "outputs": [],
   "source": [
    "a=Vector([3.1,4.2])"
   ]
  },
  {
   "cell_type": "code",
   "execution_count": 4,
   "metadata": {},
   "outputs": [
    {
     "data": {
      "text/plain": [
       "Vector([3.1, 4.2])"
      ]
     },
     "execution_count": 4,
     "metadata": {},
     "output_type": "execute_result"
    }
   ],
   "source": [
    "a"
   ]
  },
  {
   "cell_type": "code",
   "execution_count": 5,
   "metadata": {},
   "outputs": [
    {
     "data": {
      "text/plain": [
       "[3.1, 4.2]"
      ]
     },
     "execution_count": 5,
     "metadata": {},
     "output_type": "execute_result"
    }
   ],
   "source": [
    "[x for x in a]"
   ]
  },
  {
   "cell_type": "code",
   "execution_count": 6,
   "metadata": {},
   "outputs": [
    {
     "data": {
      "text/plain": [
       "5.220153254455275"
      ]
     },
     "execution_count": 6,
     "metadata": {},
     "output_type": "execute_result"
    }
   ],
   "source": [
    "abs(a)"
   ]
  },
  {
   "cell_type": "code",
   "execution_count": 7,
   "metadata": {},
   "outputs": [
    {
     "data": {
      "text/plain": [
       "Vector([3.0, 4.0, 5.0])"
      ]
     },
     "execution_count": 7,
     "metadata": {},
     "output_type": "execute_result"
    }
   ],
   "source": [
    "Vector((3,4,5))"
   ]
  },
  {
   "cell_type": "code",
   "execution_count": 8,
   "metadata": {},
   "outputs": [
    {
     "data": {
      "text/plain": [
       "Vector([0.0, 1.0, 2.0, 3.0, 4.0, ...])"
      ]
     },
     "execution_count": 8,
     "metadata": {},
     "output_type": "execute_result"
    }
   ],
   "source": [
    "Vector(range(10))"
   ]
  },
  {
   "cell_type": "markdown",
   "metadata": {},
   "source": [
    "10.3协议和鸭子类型"
   ]
  },
  {
   "cell_type": "markdown",
   "metadata": {},
   "source": [
    "![chapter10-3](chapter10-3.png)"
   ]
  },
  {
   "cell_type": "code",
   "execution_count": 10,
   "metadata": {},
   "outputs": [],
   "source": [
    "import collections\n",
    "\n",
    "Card=collections.namedtuple('Card',['rank','suit'])\n",
    "\n",
    "class FrenchDeck:\n",
    "    ranks=[str(n) for n in range(2,11)]+list('JQKA')\n",
    "    suits='spades diamonds clubs hearts'.split()\n",
    "    \n",
    "    def __init__(self):\n",
    "        self._card=[Card(rank,suit) for suit in self.suits\n",
    "                                    for rank in self.ranks]\n",
    "    def __len__(self):\n",
    "        return len(self._card)\n",
    "    \n",
    "    def __getitem__(self, position):\n",
    "        return self._card[position]"
   ]
  },
  {
   "cell_type": "markdown",
   "metadata": {},
   "source": [
    "10.4 Vector类第二版：可切片的序列"
   ]
  },
  {
   "cell_type": "code",
   "execution_count": 11,
   "metadata": {},
   "outputs": [],
   "source": [
    "#只需添加__len__和__getitem__\n",
    "from array import array\n",
    "import reprlib\n",
    "import math\n",
    "\n",
    "#序列类型的构造方法最后接受可迭代的对象为参数，因为所有内置的序列类型都是这样\n",
    "class Vector:\n",
    "    typecode='d'\n",
    "    \n",
    "    def __init__(self,components):\n",
    "        self._component = array(self.typecode,components)\n",
    "    \n",
    "    def __iter__(self):\n",
    "        return iter(self._component)\n",
    "    \n",
    "    def __repr__(self):\n",
    "        components = reprlib.repr(self._component)#reprlib模块可以生成长度有限的表示形式\n",
    "        components = components[components.find('['):-1]#把字符串插入Vector的构造方法调用之前，去掉前面arra('d'和后面的)\n",
    "        return 'Vector({})'.format(components)\n",
    "    \n",
    "    def __str__(self):\n",
    "        return str(tuple(self))\n",
    "    \n",
    "    def __bytes__(self):\n",
    "        return (bytes[ord(self.typecode)])+bytes(self._component)\n",
    "    \n",
    "    def __eq__(self, other):\n",
    "        return tuple(self)==tuple(other)\n",
    "    \n",
    "    def __abs__(self):\n",
    "        return math.sqrt(sum(x*x for x in self))\n",
    "    \n",
    "    def __bool__(self):\n",
    "        return bool(abs(self))\n",
    "    \n",
    "    @classmethod\n",
    "    def frombytes(cls,octets):\n",
    "        typecode=chr(octets[0])\n",
    "        memv = memoryview(octets[1:]).cast(typecode)\n",
    "        return cls(memv)#不用像上一章一样使用*拆包，因为Vector是可迭代的\n",
    "    \n",
    "    def __len__(self):\n",
    "        return len(self._component)\n",
    "    \n",
    "    def __getitem__(self, position):\n",
    "        return self._component[position]"
   ]
  },
  {
   "cell_type": "code",
   "execution_count": 12,
   "metadata": {},
   "outputs": [],
   "source": [
    "v1=Vector([3,4,5])"
   ]
  },
  {
   "cell_type": "code",
   "execution_count": 13,
   "metadata": {},
   "outputs": [
    {
     "data": {
      "text/plain": [
       "3"
      ]
     },
     "execution_count": 13,
     "metadata": {},
     "output_type": "execute_result"
    }
   ],
   "source": [
    "len(v1)"
   ]
  },
  {
   "cell_type": "code",
   "execution_count": 14,
   "metadata": {},
   "outputs": [
    {
     "data": {
      "text/plain": [
       "5.0"
      ]
     },
     "execution_count": 14,
     "metadata": {},
     "output_type": "execute_result"
    }
   ],
   "source": [
    "v1[-1]"
   ]
  },
  {
   "cell_type": "code",
   "execution_count": 15,
   "metadata": {},
   "outputs": [],
   "source": [
    "v7=Vector(range(7))"
   ]
  },
  {
   "cell_type": "code",
   "execution_count": 16,
   "metadata": {},
   "outputs": [
    {
     "data": {
      "text/plain": [
       "array('d', [1.0, 2.0, 3.0])"
      ]
     },
     "execution_count": 16,
     "metadata": {},
     "output_type": "execute_result"
    }
   ],
   "source": [
    "v7[1:4]"
   ]
  },
  {
   "cell_type": "markdown",
   "metadata": {},
   "source": [
    "可以看到，现在连切片都支持了，不过尚不完美。如果Vector实例的切片也是Vector实例，而不是数组就更好了。"
   ]
  },
  {
   "cell_type": "markdown",
   "metadata": {},
   "source": [
    "10.4.1切片原理"
   ]
  },
  {
   "cell_type": "code",
   "execution_count": 18,
   "metadata": {},
   "outputs": [
    {
     "data": {
      "text/plain": [
       "1"
      ]
     },
     "execution_count": 18,
     "metadata": {},
     "output_type": "execute_result"
    }
   ],
   "source": [
    "class MySeq:\n",
    "    def __getitem__(self, item):\n",
    "        return item#在这个示例中，__getitem__直接返回传给他的值\n",
    "s=MySeq()\n",
    "s[1]\n"
   ]
  },
  {
   "cell_type": "code",
   "execution_count": 20,
   "metadata": {},
   "outputs": [
    {
     "data": {
      "text/plain": [
       "slice(1, 4, 2)"
      ]
     },
     "execution_count": 20,
     "metadata": {},
     "output_type": "execute_result"
    }
   ],
   "source": [
    "s[1:4:2]"
   ]
  },
  {
   "cell_type": "code",
   "execution_count": 21,
   "metadata": {},
   "outputs": [
    {
     "data": {
      "text/plain": [
       "(slice(1, 4, 2), 9)"
      ]
     },
     "execution_count": 21,
     "metadata": {},
     "output_type": "execute_result"
    }
   ],
   "source": [
    "s[1:4:2,9] #神奇的事发生了，如果[]中有逗号，那么__getitem__收到的是元组"
   ]
  },
  {
   "cell_type": "code",
   "execution_count": 22,
   "metadata": {},
   "outputs": [
    {
     "data": {
      "text/plain": [
       "(slice(1, 3, 2), slice(7, 9, None))"
      ]
     },
     "execution_count": 22,
     "metadata": {},
     "output_type": "execute_result"
    }
   ],
   "source": [
    "s[1:3:2,7:9]#元组中甚至可以有多个切片对象"
   ]
  },
  {
   "cell_type": "code",
   "execution_count": 23,
   "metadata": {},
   "outputs": [
    {
     "data": {
      "text/plain": [
       "slice"
      ]
     },
     "execution_count": 23,
     "metadata": {},
     "output_type": "execute_result"
    }
   ],
   "source": [
    "#现在来看看slice本身\n",
    "#查看slice类的属性\n",
    "slice"
   ]
  },
  {
   "cell_type": "code",
   "execution_count": 24,
   "metadata": {},
   "outputs": [
    {
     "data": {
      "text/plain": [
       "['__class__',\n '__delattr__',\n '__dir__',\n '__doc__',\n '__eq__',\n '__format__',\n '__ge__',\n '__getattribute__',\n '__gt__',\n '__hash__',\n '__init__',\n '__le__',\n '__lt__',\n '__ne__',\n '__new__',\n '__reduce__',\n '__reduce_ex__',\n '__repr__',\n '__setattr__',\n '__sizeof__',\n '__str__',\n '__subclasshook__',\n 'indices',\n 'start',\n 'step',\n 'stop']"
      ]
     },
     "execution_count": 24,
     "metadata": {},
     "output_type": "execute_result"
    }
   ],
   "source": [
    "dir(slice)"
   ]
  },
  {
   "cell_type": "code",
   "execution_count": 25,
   "metadata": {},
   "outputs": [
    {
     "name": "stdout",
     "output_type": "stream",
     "text": [
      "Help on method_descriptor:\n\nindices(...)\n    S.indices(len) -> (start, stop, stride)\n    \n    Assuming a sequence of length len, calculate the start and stop\n    indices, and the stride length of the extended slice described by\n    S. Out of bounds indices are clipped in a manner consistent with the\n    handling of normal slices.\n\n"
     ]
    }
   ],
   "source": [
    "help(slice.indices)"
   ]
  },
  {
   "cell_type": "code",
   "execution_count": 27,
   "metadata": {},
   "outputs": [
    {
     "data": {
      "text/plain": [
       "(0, 5, 2)"
      ]
     },
     "execution_count": 27,
     "metadata": {},
     "output_type": "execute_result"
    }
   ],
   "source": [
    "slice(None,10,2).indices(5) #'ABCDE'[:10:2]等同于'ABCDE'[0,5,2]"
   ]
  },
  {
   "cell_type": "code",
   "execution_count": 30,
   "metadata": {},
   "outputs": [
    {
     "data": {
      "text/plain": [
       "(2, 5, 1)"
      ]
     },
     "execution_count": 30,
     "metadata": {},
     "output_type": "execute_result"
    }
   ],
   "source": [
    "slice(-3,None,None).indices(5)#'ABCDE'[-3:]等同于’ABCDE'[2:5:1]"
   ]
  },
  {
   "cell_type": "markdown",
   "metadata": {},
   "source": [
    "10.4.2能处理切片的__getitem__方法"
   ]
  },
  {
   "cell_type": "code",
   "execution_count": 31,
   "metadata": {},
   "outputs": [],
   "source": [
    "#重写__getitem__方法\n",
    "#只需添加__len__和__getitem__\n",
    "from array import array\n",
    "import reprlib\n",
    "import math\n",
    "import numbers\n",
    "\n",
    "#序列类型的构造方法最后接受可迭代的对象为参数，因为所有内置的序列类型都是这样\n",
    "class Vector:\n",
    "    typecode='d'\n",
    "    \n",
    "    def __init__(self,components):\n",
    "        self._component = array(self.typecode,components)\n",
    "    \n",
    "    def __iter__(self):\n",
    "        return iter(self._component)\n",
    "    \n",
    "    def __repr__(self):\n",
    "        components = reprlib.repr(self._component)#reprlib模块可以生成长度有限的表示形式\n",
    "        components = components[components.find('['):-1]#把字符串插入Vector的构造方法调用之前，去掉前面arra('d'和后面的)\n",
    "        return 'Vector({})'.format(components)\n",
    "    \n",
    "    def __str__(self):\n",
    "        return str(tuple(self))\n",
    "    \n",
    "    def __bytes__(self):\n",
    "        return (bytes[ord(self.typecode)])+bytes(self._component)\n",
    "    \n",
    "    def __eq__(self, other):\n",
    "        return tuple(self)==tuple(other)\n",
    "    \n",
    "    def __abs__(self):\n",
    "        return math.sqrt(sum(x*x for x in self))\n",
    "    \n",
    "    def __bool__(self):\n",
    "        return bool(abs(self))\n",
    "    \n",
    "    @classmethod\n",
    "    def frombytes(cls,octets):\n",
    "        typecode=chr(octets[0])\n",
    "        memv = memoryview(octets[1:]).cast(typecode)\n",
    "        return cls(memv)#不用像上一章一样使用*拆包，因为Vector是可迭代的\n",
    "    \n",
    "    def __len__(self):\n",
    "        return len(self._component)\n",
    "    \n",
    "    def __getitem__(self, index):\n",
    "        cls=type(self)\n",
    "        if isinstance(index,slice):\n",
    "            return cls(self._component[index])\n",
    "        elif isinstance(index,numbers.Integral):\n",
    "            return self._component[index]\n",
    "        else:\n",
    "            msg='{cls.__name__} indices must be itegers'\n",
    "            raise TypeError(msg.format(cls=cls))"
   ]
  },
  {
   "cell_type": "code",
   "execution_count": 32,
   "metadata": {},
   "outputs": [],
   "source": [
    "v7=Vector(range(7))"
   ]
  },
  {
   "cell_type": "code",
   "execution_count": 33,
   "metadata": {},
   "outputs": [
    {
     "data": {
      "text/plain": [
       "6.0"
      ]
     },
     "execution_count": 33,
     "metadata": {},
     "output_type": "execute_result"
    }
   ],
   "source": [
    "v7[-1]"
   ]
  },
  {
   "cell_type": "code",
   "execution_count": 34,
   "metadata": {},
   "outputs": [
    {
     "data": {
      "text/plain": [
       "Vector([1.0, 2.0, 3.0])"
      ]
     },
     "execution_count": 34,
     "metadata": {},
     "output_type": "execute_result"
    }
   ],
   "source": [
    "v7[1:4]"
   ]
  },
  {
   "cell_type": "code",
   "execution_count": 35,
   "metadata": {},
   "outputs": [
    {
     "data": {
      "text/plain": [
       "Vector([6.0])"
      ]
     },
     "execution_count": 35,
     "metadata": {},
     "output_type": "execute_result"
    }
   ],
   "source": [
    "v7[-1:]"
   ]
  },
  {
   "cell_type": "code",
   "execution_count": 37,
   "metadata": {},
   "outputs": [
    {
     "ename": "TypeError",
     "evalue": "Vector indices must be itegers",
     "traceback": [
      "\u001b[1;31m---------------------------------------------------------------------------\u001b[0m",
      "\u001b[1;31mTypeError\u001b[0m                                 Traceback (most recent call last)",
      "\u001b[1;32m<ipython-input-37-2443ab7da21e>\u001b[0m in \u001b[0;36m<module>\u001b[1;34m()\u001b[0m\n\u001b[1;32m----> 1\u001b[1;33m \u001b[0mv7\u001b[0m\u001b[1;33m[\u001b[0m\u001b[1;36m1\u001b[0m\u001b[1;33m,\u001b[0m\u001b[1;36m2\u001b[0m\u001b[1;33m]\u001b[0m \u001b[1;31m#不支持多维索引\u001b[0m\u001b[1;33m\u001b[0m\u001b[0m\n\u001b[0m",
      "\u001b[1;32m<ipython-input-31-d5d5faaeb08f>\u001b[0m in \u001b[0;36m__getitem__\u001b[1;34m(self, index)\u001b[0m\n\u001b[0;32m     53\u001b[0m         \u001b[1;32melse\u001b[0m\u001b[1;33m:\u001b[0m\u001b[1;33m\u001b[0m\u001b[0m\n\u001b[0;32m     54\u001b[0m             \u001b[0mmsg\u001b[0m\u001b[1;33m=\u001b[0m\u001b[1;34m'{cls.__name__} indices must be itegers'\u001b[0m\u001b[1;33m\u001b[0m\u001b[0m\n\u001b[1;32m---> 55\u001b[1;33m             \u001b[1;32mraise\u001b[0m \u001b[0mTypeError\u001b[0m\u001b[1;33m(\u001b[0m\u001b[0mmsg\u001b[0m\u001b[1;33m.\u001b[0m\u001b[0mformat\u001b[0m\u001b[1;33m(\u001b[0m\u001b[0mcls\u001b[0m\u001b[1;33m=\u001b[0m\u001b[0mcls\u001b[0m\u001b[1;33m)\u001b[0m\u001b[1;33m)\u001b[0m\u001b[1;33m\u001b[0m\u001b[0m\n\u001b[0m",
      "\u001b[1;31mTypeError\u001b[0m: Vector indices must be itegers"
     ],
     "output_type": "error"
    }
   ],
   "source": [
    "v7[1,2] #不支持多维索引"
   ]
  },
  {
   "cell_type": "markdown",
   "metadata": {},
   "source": [
    "10.5 Vector类第三版：动态存取属性"
   ]
  },
  {
   "cell_type": "markdown",
   "metadata": {},
   "source": [
    "![chapter10-5](image/chapter10-5.png)"
   ]
  },
  {
   "cell_type": "code",
   "execution_count": 38,
   "metadata": {},
   "outputs": [],
   "source": [
    "#添加__getattr__\n",
    "from array import array\n",
    "import reprlib\n",
    "import math\n",
    "import numbers\n",
    "\n",
    "#序列类型的构造方法最后接受可迭代的对象为参数，因为所有内置的序列类型都是这样\n",
    "class Vector:\n",
    "    typecode='d'\n",
    "    shotcut_names = 'xyzt'\n",
    "    \n",
    "    def __getattr__(self, name):\n",
    "        cls=type(self)\n",
    "        if len(name)==1:\n",
    "            pos=cls.shotcut_names.find(name)\n",
    "            if 0<=pos<len(self._component):\n",
    "                return self._component[pos]\n",
    "        msg='{.__name__!r} object has no arrtibute {!r}'\n",
    "        raise AttributeError(msg.format(cls,name))\n",
    "        \n",
    "    \n",
    "    def __init__(self,components):\n",
    "        self._component = array(self.typecode,components)\n",
    "    \n",
    "    def __iter__(self):\n",
    "        return iter(self._component)\n",
    "    \n",
    "    def __repr__(self):\n",
    "        components = reprlib.repr(self._component)#reprlib模块可以生成长度有限的表示形式\n",
    "        components = components[components.find('['):-1]#把字符串插入Vector的构造方法调用之前，去掉前面arra('d'和后面的)\n",
    "        return 'Vector({})'.format(components)\n",
    "    \n",
    "    def __str__(self):\n",
    "        return str(tuple(self))\n",
    "    \n",
    "    def __bytes__(self):\n",
    "        return (bytes[ord(self.typecode)])+bytes(self._component)\n",
    "    \n",
    "    def __eq__(self, other):\n",
    "        return tuple(self)==tuple(other)\n",
    "    \n",
    "    def __abs__(self):\n",
    "        return math.sqrt(sum(x*x for x in self))\n",
    "    \n",
    "    def __bool__(self):\n",
    "        return bool(abs(self))\n",
    "    \n",
    "    @classmethod\n",
    "    def frombytes(cls,octets):\n",
    "        typecode=chr(octets[0])\n",
    "        memv = memoryview(octets[1:]).cast(typecode)\n",
    "        return cls(memv)#不用像上一章一样使用*拆包，因为Vector是可迭代的\n",
    "    \n",
    "    def __len__(self):\n",
    "        return len(self._component)\n",
    "    \n",
    "    def __getitem__(self, index):\n",
    "        cls=type(self)\n",
    "        if isinstance(index,slice):\n",
    "            return cls(self._component[index])\n",
    "        elif isinstance(index,numbers.Integral):\n",
    "            return self._component[index]\n",
    "        else:\n",
    "            msg='{cls.__name__} indices must be itegers'\n",
    "            raise TypeError(msg.format(cls=cls))"
   ]
  },
  {
   "cell_type": "code",
   "execution_count": 39,
   "metadata": {},
   "outputs": [],
   "source": [
    "v=Vector(range(10))"
   ]
  },
  {
   "cell_type": "code",
   "execution_count": 40,
   "metadata": {},
   "outputs": [
    {
     "data": {
      "text/plain": [
       "0.0"
      ]
     },
     "execution_count": 40,
     "metadata": {},
     "output_type": "execute_result"
    }
   ],
   "source": [
    "v.x"
   ]
  },
  {
   "cell_type": "code",
   "execution_count": 41,
   "metadata": {},
   "outputs": [
    {
     "data": {
      "text/plain": [
       "(1.0, 2.0, 3.0)"
      ]
     },
     "execution_count": 41,
     "metadata": {},
     "output_type": "execute_result"
    }
   ],
   "source": [
    "v.y,v.z,v.t"
   ]
  },
  {
   "cell_type": "code",
   "execution_count": 42,
   "metadata": {},
   "outputs": [
    {
     "data": {
      "text/plain": [
       "Vector([0.0, 1.0, 2.0, 3.0, 4.0])"
      ]
     },
     "execution_count": 42,
     "metadata": {},
     "output_type": "execute_result"
    }
   ],
   "source": [
    "#不恰当的行为：为v.x赋值没有抛出错误，但前后矛盾\n",
    "v=Vector(range(5))\n",
    "v"
   ]
  },
  {
   "cell_type": "code",
   "execution_count": 43,
   "metadata": {},
   "outputs": [
    {
     "data": {
      "text/plain": [
       "0.0"
      ]
     },
     "execution_count": 43,
     "metadata": {},
     "output_type": "execute_result"
    }
   ],
   "source": [
    "v.x"
   ]
  },
  {
   "cell_type": "code",
   "execution_count": 44,
   "metadata": {},
   "outputs": [
    {
     "data": {
      "text/plain": [
       "10"
      ]
     },
     "execution_count": 44,
     "metadata": {},
     "output_type": "execute_result"
    }
   ],
   "source": [
    "v.x=10\n",
    "v.x"
   ]
  },
  {
   "cell_type": "code",
   "execution_count": 45,
   "metadata": {},
   "outputs": [
    {
     "data": {
      "text/plain": [
       "Vector([0.0, 1.0, 2.0, 3.0, 4.0])"
      ]
     },
     "execution_count": 45,
     "metadata": {},
     "output_type": "execute_result"
    }
   ],
   "source": [
    "v"
   ]
  },
  {
   "cell_type": "code",
   "execution_count": 58,
   "metadata": {},
   "outputs": [],
   "source": [
    " #添加__setattr__\n",
    "from array import array\n",
    "import reprlib\n",
    "import math\n",
    "import numbers\n",
    "\n",
    "#序列类型的构造方法最后接受可迭代的对象为参数，因为所有内置的序列类型都是这样\n",
    "class Vector:\n",
    "    typecode='d'\n",
    "    shotcut_names = 'xyzt'\n",
    "    \n",
    "    def __getattr__(self, name):\n",
    "        cls=type(self)\n",
    "        if len(name)==1:\n",
    "            pos=cls.shotcut_names.find(name)\n",
    "            if 0<=pos<len(self._component):\n",
    "                return self._component[pos]\n",
    "        msg='{.__name__!r} object has no arrtibute {!r}'\n",
    "        raise AttributeError(msg.format(cls,name))\n",
    "        \n",
    "    \n",
    "    def __init__(self,components):\n",
    "        self._component = array(self.typecode,components)\n",
    "    \n",
    "    def __iter__(self):\n",
    "        return iter(self._component)\n",
    "    \n",
    "    def __repr__(self):\n",
    "        components = reprlib.repr(self._component)#reprlib模块可以生成长度有限的表示形式\n",
    "        components = components[components.find('['):-1]#把字符串插入Vector的构造方法调用之前，去掉前面arra('d'和后面的)\n",
    "        return 'Vector({})'.format(components)\n",
    "    \n",
    "    def __str__(self):\n",
    "        return str(tuple(self))\n",
    "    \n",
    "    def __bytes__(self):\n",
    "        return (bytes[ord(self.typecode)])+bytes(self._component)\n",
    "    \n",
    "    def __eq__(self, other):\n",
    "        return tuple(self)==tuple(other)\n",
    "    \n",
    "    def __abs__(self):\n",
    "        return math.sqrt(sum(x*x for x in self))\n",
    "    \n",
    "    def __bool__(self):\n",
    "        return bool(abs(self))\n",
    "    \n",
    "    @classmethod\n",
    "    def frombytes(cls,octets):\n",
    "        typecode=chr(octets[0])\n",
    "        memv = memoryview(octets[1:]).cast(typecode)\n",
    "        return cls(memv)#不用像上一章一样使用*拆包，因为Vector是可迭代的\n",
    "    \n",
    "    def __len__(self):\n",
    "        return len(self._component)\n",
    "    \n",
    "    def __getitem__(self, index):\n",
    "        cls=type(self)\n",
    "        if isinstance(index,slice):\n",
    "            return cls(self._component[index])\n",
    "        elif isinstance(index,numbers.Integral):\n",
    "            return self._component[index]\n",
    "        else:\n",
    "            msg='{cls.__name__} indices must be itegers'\n",
    "            raise TypeError(msg.format(cls=cls))  \n",
    "      \n",
    "     #注意，我们没有禁止为所有全部属性赋值，只是禁止为单个小写字母属性赋值，以防与只读属性x,y,z,t混淆   \n",
    "    def __setattr__(self, name, value):\n",
    "        cls = type(self)\n",
    "        if len(name) == 1:  # <1>\n",
    "            if name in cls.shotcut_names:  # <2>\n",
    "                error = 'readonly attribute {attr_name!r}'\n",
    "            elif name.islower():  # <3>\n",
    "                error = \"can't set attributes 'a' to 'z' in {cls_name!r}\"\n",
    "            else:\n",
    "                error = ''  # <4>\n",
    "            if error:  # <5>\n",
    "                msg = error.format(cls_name=cls.__name__, attr_name=name)\n",
    "                raise AttributeError(msg)\n",
    "        super().__setattr__(name, value)  # <6>"
   ]
  },
  {
   "cell_type": "code",
   "execution_count": 59,
   "metadata": {},
   "outputs": [],
   "source": [
    "v1=Vector(range(5))"
   ]
  },
  {
   "cell_type": "code",
   "execution_count": 60,
   "metadata": {},
   "outputs": [
    {
     "data": {
      "text/plain": [
       "Vector([0.0, 1.0, 2.0, 3.0, 4.0])"
      ]
     },
     "execution_count": 60,
     "metadata": {},
     "output_type": "execute_result"
    }
   ],
   "source": [
    "v1"
   ]
  },
  {
   "cell_type": "code",
   "execution_count": 61,
   "metadata": {},
   "outputs": [
    {
     "data": {
      "text/plain": [
       "0.0"
      ]
     },
     "execution_count": 61,
     "metadata": {},
     "output_type": "execute_result"
    }
   ],
   "source": [
    "v1.x"
   ]
  },
  {
   "cell_type": "code",
   "execution_count": 62,
   "metadata": {},
   "outputs": [
    {
     "ename": "AttributeError",
     "evalue": "readonly attribute 'x'",
     "traceback": [
      "\u001b[1;31m---------------------------------------------------------------------------\u001b[0m",
      "\u001b[1;31mAttributeError\u001b[0m                            Traceback (most recent call last)",
      "\u001b[1;32m<ipython-input-62-447b090d5a9b>\u001b[0m in \u001b[0;36m<module>\u001b[1;34m()\u001b[0m\n\u001b[1;32m----> 1\u001b[1;33m \u001b[0mv1\u001b[0m\u001b[1;33m.\u001b[0m\u001b[0mx\u001b[0m\u001b[1;33m=\u001b[0m\u001b[1;36m10\u001b[0m\u001b[1;33m\u001b[0m\u001b[0m\n\u001b[0m",
      "\u001b[1;32m<ipython-input-58-52d77921be84>\u001b[0m in \u001b[0;36m__setattr__\u001b[1;34m(self, name, value)\u001b[0m\n\u001b[0;32m     77\u001b[0m            \u001b[1;32mif\u001b[0m \u001b[0merror\u001b[0m\u001b[1;33m:\u001b[0m  \u001b[1;31m# <5>\u001b[0m\u001b[1;33m\u001b[0m\u001b[0m\n\u001b[0;32m     78\u001b[0m                \u001b[0mmsg\u001b[0m \u001b[1;33m=\u001b[0m \u001b[0merror\u001b[0m\u001b[1;33m.\u001b[0m\u001b[0mformat\u001b[0m\u001b[1;33m(\u001b[0m\u001b[0mcls_name\u001b[0m\u001b[1;33m=\u001b[0m\u001b[0mcls\u001b[0m\u001b[1;33m.\u001b[0m\u001b[0m__name__\u001b[0m\u001b[1;33m,\u001b[0m \u001b[0mattr_name\u001b[0m\u001b[1;33m=\u001b[0m\u001b[0mname\u001b[0m\u001b[1;33m)\u001b[0m\u001b[1;33m\u001b[0m\u001b[0m\n\u001b[1;32m---> 79\u001b[1;33m                \u001b[1;32mraise\u001b[0m \u001b[0mAttributeError\u001b[0m\u001b[1;33m(\u001b[0m\u001b[0mmsg\u001b[0m\u001b[1;33m)\u001b[0m\u001b[1;33m\u001b[0m\u001b[0m\n\u001b[0m\u001b[0;32m     80\u001b[0m        \u001b[0msuper\u001b[0m\u001b[1;33m(\u001b[0m\u001b[1;33m)\u001b[0m\u001b[1;33m.\u001b[0m\u001b[0m__setattr__\u001b[0m\u001b[1;33m(\u001b[0m\u001b[0mname\u001b[0m\u001b[1;33m,\u001b[0m \u001b[0mvalue\u001b[0m\u001b[1;33m)\u001b[0m  \u001b[1;31m# <6>\u001b[0m\u001b[1;33m\u001b[0m\u001b[0m\n",
      "\u001b[1;31mAttributeError\u001b[0m: readonly attribute 'x'"
     ],
     "output_type": "error"
    }
   ],
   "source": [
    "v1.x=10#__setattr__方法"
   ]
  },
  {
   "cell_type": "code",
   "execution_count": 63,
   "metadata": {},
   "outputs": [
    {
     "ename": "TypeError",
     "evalue": "'Vector' object does not support item assignment",
     "traceback": [
      "\u001b[1;31m---------------------------------------------------------------------------\u001b[0m",
      "\u001b[1;31mTypeError\u001b[0m                                 Traceback (most recent call last)",
      "\u001b[1;32m<ipython-input-63-8f8f67c40e63>\u001b[0m in \u001b[0;36m<module>\u001b[1;34m()\u001b[0m\n\u001b[1;32m----> 1\u001b[1;33m \u001b[0mv1\u001b[0m\u001b[1;33m[\u001b[0m\u001b[1;36m0\u001b[0m\u001b[1;33m]\u001b[0m\u001b[1;33m=\u001b[0m\u001b[1;36m10\u001b[0m\u001b[1;33m\u001b[0m\u001b[0m\n\u001b[0m",
      "\u001b[1;31mTypeError\u001b[0m: 'Vector' object does not support item assignment"
     ],
     "output_type": "error"
    }
   ],
   "source": [
    "v1[0]=10 #__setitem__方法"
   ]
  },
  {
   "cell_type": "code",
   "execution_count": 64,
   "metadata": {},
   "outputs": [
    {
     "data": {
      "text/plain": [
       "0.0"
      ]
     },
     "execution_count": 64,
     "metadata": {},
     "output_type": "execute_result"
    }
   ],
   "source": [
    "v1[0]"
   ]
  },
  {
   "cell_type": "code",
   "execution_count": 65,
   "metadata": {},
   "outputs": [],
   "source": [
    "v1.K=10"
   ]
  },
  {
   "cell_type": "code",
   "execution_count": 67,
   "metadata": {},
   "outputs": [
    {
     "ename": "AttributeError",
     "evalue": "can't set attributes 'a' to 'z' in 'Vector'",
     "traceback": [
      "\u001b[1;31m---------------------------------------------------------------------------\u001b[0m",
      "\u001b[1;31mAttributeError\u001b[0m                            Traceback (most recent call last)",
      "\u001b[1;32m<ipython-input-67-f0e25722cb10>\u001b[0m in \u001b[0;36m<module>\u001b[1;34m()\u001b[0m\n\u001b[1;32m----> 1\u001b[1;33m \u001b[0mv1\u001b[0m\u001b[1;33m.\u001b[0m\u001b[0mk\u001b[0m\u001b[1;33m=\u001b[0m\u001b[1;36m10\u001b[0m\u001b[1;33m\u001b[0m\u001b[0m\n\u001b[0m",
      "\u001b[1;32m<ipython-input-58-52d77921be84>\u001b[0m in \u001b[0;36m__setattr__\u001b[1;34m(self, name, value)\u001b[0m\n\u001b[0;32m     77\u001b[0m            \u001b[1;32mif\u001b[0m \u001b[0merror\u001b[0m\u001b[1;33m:\u001b[0m  \u001b[1;31m# <5>\u001b[0m\u001b[1;33m\u001b[0m\u001b[0m\n\u001b[0;32m     78\u001b[0m                \u001b[0mmsg\u001b[0m \u001b[1;33m=\u001b[0m \u001b[0merror\u001b[0m\u001b[1;33m.\u001b[0m\u001b[0mformat\u001b[0m\u001b[1;33m(\u001b[0m\u001b[0mcls_name\u001b[0m\u001b[1;33m=\u001b[0m\u001b[0mcls\u001b[0m\u001b[1;33m.\u001b[0m\u001b[0m__name__\u001b[0m\u001b[1;33m,\u001b[0m \u001b[0mattr_name\u001b[0m\u001b[1;33m=\u001b[0m\u001b[0mname\u001b[0m\u001b[1;33m)\u001b[0m\u001b[1;33m\u001b[0m\u001b[0m\n\u001b[1;32m---> 79\u001b[1;33m                \u001b[1;32mraise\u001b[0m \u001b[0mAttributeError\u001b[0m\u001b[1;33m(\u001b[0m\u001b[0mmsg\u001b[0m\u001b[1;33m)\u001b[0m\u001b[1;33m\u001b[0m\u001b[0m\n\u001b[0m\u001b[0;32m     80\u001b[0m        \u001b[0msuper\u001b[0m\u001b[1;33m(\u001b[0m\u001b[1;33m)\u001b[0m\u001b[1;33m.\u001b[0m\u001b[0m__setattr__\u001b[0m\u001b[1;33m(\u001b[0m\u001b[0mname\u001b[0m\u001b[1;33m,\u001b[0m \u001b[0mvalue\u001b[0m\u001b[1;33m)\u001b[0m  \u001b[1;31m# <6>\u001b[0m\u001b[1;33m\u001b[0m\u001b[0m\n",
      "\u001b[1;31mAttributeError\u001b[0m: can't set attributes 'a' to 'z' in 'Vector'"
     ],
     "output_type": "error"
    }
   ],
   "source": [
    "v1.k=10"
   ]
  },
  {
   "cell_type": "markdown",
   "metadata": {},
   "source": [
    "10.6 Vector类第四版：散列和快速等值测试"
   ]
  },
  {
   "cell_type": "code",
   "execution_count": 68,
   "metadata": {},
   "outputs": [
    {
     "data": {
      "text/plain": [
       "1"
      ]
     },
     "execution_count": 68,
     "metadata": {},
     "output_type": "execute_result"
    }
   ],
   "source": [
    "from functools import reduce\n",
    "from operator import xor\n",
    "\n",
    "#计算整数0~5的累计异或的三种方式\n",
    "n=0\n",
    "for i in range(1,6):\n",
    "    n^=i\n",
    "n"
   ]
  },
  {
   "cell_type": "code",
   "execution_count": 69,
   "metadata": {},
   "outputs": [
    {
     "data": {
      "text/plain": [
       "1"
      ]
     },
     "execution_count": 69,
     "metadata": {},
     "output_type": "execute_result"
    }
   ],
   "source": [
    "reduce(lambda a,b:a^b,range(6))"
   ]
  },
  {
   "cell_type": "code",
   "execution_count": 71,
   "metadata": {},
   "outputs": [
    {
     "data": {
      "text/plain": [
       "1"
      ]
     },
     "execution_count": 71,
     "metadata": {},
     "output_type": "execute_result"
    }
   ],
   "source": [
    "reduce(xor,range(6))"
   ]
  },
  {
   "cell_type": "code",
   "execution_count": 72,
   "metadata": {},
   "outputs": [],
   "source": [
    " #添加__hash__方法，与__eq__方法一起使用\n",
    "from array import array\n",
    "import reprlib\n",
    "import math\n",
    "import numbers\n",
    "import functools\n",
    "import operator\n",
    "\n",
    "#序列类型的构造方法最后接受可迭代的对象为参数，因为所有内置的序列类型都是这样\n",
    "class Vector:\n",
    "    typecode='d'\n",
    "    shotcut_names = 'xyzt'\n",
    "    \n",
    "    def __getattr__(self, name):\n",
    "        cls=type(self)\n",
    "        if len(name)==1:\n",
    "            pos=cls.shotcut_names.find(name)\n",
    "            if 0<=pos<len(self._component):\n",
    "                return self._component[pos]\n",
    "        msg='{.__name__!r} object has no arrtibute {!r}'\n",
    "        raise AttributeError(msg.format(cls,name))\n",
    "        \n",
    "    \n",
    "    def __init__(self,components):\n",
    "        self._component = array(self.typecode,components)\n",
    "    \n",
    "    def __iter__(self):\n",
    "        return iter(self._component)\n",
    "    \n",
    "    def __repr__(self):\n",
    "        components = reprlib.repr(self._component)#reprlib模块可以生成长度有限的表示形式\n",
    "        components = components[components.find('['):-1]#把字符串插入Vector的构造方法调用之前，去掉前面arra('d'和后面的)\n",
    "        return 'Vector({})'.format(components)\n",
    "    \n",
    "    def __str__(self):\n",
    "        return str(tuple(self))\n",
    "    \n",
    "    def __bytes__(self):\n",
    "        return (bytes[ord(self.typecode)])+bytes(self._component)\n",
    "    \n",
    "    def __eq__(self, other):\n",
    "        return tuple(self)==tuple(other)\n",
    "    \n",
    "    def __abs__(self):\n",
    "        return math.sqrt(sum(x*x for x in self))\n",
    "    \n",
    "    \n",
    "    def __bool__(self):\n",
    "        return bool(abs(self))\n",
    "    \n",
    "    @classmethod\n",
    "    def frombytes(cls,octets):\n",
    "        typecode=chr(octets[0])\n",
    "        memv = memoryview(octets[1:]).cast(typecode)\n",
    "        return cls(memv)#不用像上一章一样使用*拆包，因为Vector是可迭代的\n",
    "    \n",
    "    def __len__(self):\n",
    "        return len(self._component)\n",
    "    \n",
    "    def __getitem__(self, index):\n",
    "        cls=type(self)\n",
    "        if isinstance(index,slice):\n",
    "            return cls(self._component[index])\n",
    "        elif isinstance(index,numbers.Integral):\n",
    "            return self._component[index]\n",
    "        else:\n",
    "            msg='{cls.__name__} indices must be itegers'\n",
    "            raise TypeError(msg.format(cls=cls))  \n",
    "      \n",
    "     #注意，我们没有禁止为所有全部属性赋值，只是禁止为单个小写字母属性赋值，以防与只读属性x,y,z,t混淆   \n",
    "    def __setattr__(self, name, value):\n",
    "        cls = type(self)\n",
    "        if len(name) == 1:  # <1>\n",
    "            if name in cls.shotcut_names:  # <2>\n",
    "                error = 'readonly attribute {attr_name!r}'\n",
    "            elif name.islower():  # <3>\n",
    "                error = \"can't set attributes 'a' to 'z' in {cls_name!r}\"\n",
    "            else:\n",
    "                error = ''  # <4>\n",
    "            if error:  # <5>\n",
    "                msg = error.format(cls_name=cls.__name__, attr_name=name)\n",
    "                raise AttributeError(msg)\n",
    "        super().__setattr__(name, value)  # <6>\n",
    "        \n",
    "    def __hash__(self):\n",
    "        hashes=(hash(x) for x in self._component)\n",
    "        return functools.reduce(operator.xor,hashes,0)#0是初始值\n",
    "    \n",
    "    "
   ]
  },
  {
   "cell_type": "code",
   "execution_count": 73,
   "metadata": {},
   "outputs": [],
   "source": [
    "#映射过程计算各个分量的散列值，归约过程则使用xor运算符聚合所有散列值。把生成器表达式替换成map方法，映射过程更加明显\n",
    "def __hash__(self):\n",
    "    hashes=map(hash,self._components)\n",
    "    return reduce(xor,hashes)\n",
    "'''\n",
    "在python2中，使用map效率会低些，因为map函数要使用结果构建一个列表。\n",
    "但在python3中，map函数是惰性的，它会创建一个生成器，按需产出结果，因此能节省内存\n",
    "'''"
   ]
  },
  {
   "cell_type": "code",
   "execution_count": 82,
   "metadata": {},
   "outputs": [],
   "source": [
    "#原来的__eq__方法，会完整复制两个操作数，构建两个元组，只为了使用tuple类型的__eq__方法。\n",
    "# 对Vector2d(只有两个分量)来说，这是个捷径，但是对维数很多的向量就不同了\n",
    "#为了提高效率，Vector.__eq__方法在for循环中使用zip函数\n",
    "\n",
    "from array import array\n",
    "import reprlib\n",
    "import math\n",
    "import numbers\n",
    "import functools\n",
    "import operator\n",
    "\n",
    "#序列类型的构造方法最后接受可迭代的对象为参数，因为所有内置的序列类型都是这样\n",
    "class Vector:\n",
    "    typecode='d'\n",
    "    shotcut_names = 'xyzt'\n",
    "    \n",
    "    def __getattr__(self, name):\n",
    "        cls=type(self)\n",
    "        if len(name)==1:\n",
    "            pos=cls.shotcut_names.find(name)\n",
    "            if 0<=pos<len(self._component):\n",
    "                return self._component[pos]\n",
    "        msg='{.__name__!r} object has no arrtibute {!r}'\n",
    "        raise AttributeError(msg.format(cls,name))\n",
    "        \n",
    "    \n",
    "    def __init__(self,components):\n",
    "        self._component = array(self.typecode,components)\n",
    "    \n",
    "    def __iter__(self):\n",
    "        return iter(self._component)\n",
    "    \n",
    "    def __repr__(self):\n",
    "        components = reprlib.repr(self._component)#reprlib模块可以生成长度有限的表示形式\n",
    "        components = components[components.find('['):-1]#把字符串插入Vector的构造方法调用之前，去掉前面arra('d'和后面的)\n",
    "        return 'Vector({})'.format(components)\n",
    "    \n",
    "    def __str__(self):\n",
    "        return str(tuple(self))\n",
    "    \n",
    "    def __bytes__(self):\n",
    "        return (bytes[ord(self.typecode)])+bytes(self._component)\n",
    "    \n",
    "    def __eq__(self, other):\n",
    "        if len(self) != len(other):\n",
    "            return False\n",
    "        for a,b in zip(self,other):#zip函数生成一个由元祖构成的生成器\n",
    "            if a!=b:\n",
    "                return False\n",
    "        return True\n",
    "    \n",
    "    def __abs__(self):\n",
    "        return math.sqrt(sum(x*x for x in self))\n",
    "    \n",
    "    def __bool__(self):\n",
    "        return bool(abs(self))\n",
    "    \n",
    "    @classmethod\n",
    "    def frombytes(cls,octets):\n",
    "        typecode=chr(octets[0])\n",
    "        memv = memoryview(octets[1:]).cast(typecode)\n",
    "        return cls(memv)#不用像上一章一样使用*拆包，因为Vector是可迭代的\n",
    "    \n",
    "    def __len__(self):\n",
    "        return len(self._component)\n",
    "    \n",
    "    def __getitem__(self, index):\n",
    "        cls=type(self)\n",
    "        if isinstance(index,slice):\n",
    "            return cls(self._component[index])\n",
    "        elif isinstance(index,numbers.Integral):\n",
    "            return self._component[index]\n",
    "        else:\n",
    "            msg='{cls.__name__} indices must be itegers'\n",
    "            raise TypeError(msg.format(cls=cls))  \n",
    "      \n",
    "     #注意，我们没有禁止为所有全部属性赋值，只是禁止为单个小写字母属性赋值，以防与只读属性x,y,z,t混淆   \n",
    "    def __setattr__(self, name, value):\n",
    "        cls = type(self)\n",
    "        if len(name) == 1:  # <1>\n",
    "            if name in cls.shotcut_names:  # <2>\n",
    "                error = 'readonly attribute {attr_name!r}'\n",
    "            elif name.islower():  # <3>\n",
    "                error = \"can't set attributes 'a' to 'z' in {cls_name!r}\"\n",
    "            else:\n",
    "                error = ''  # <4>\n",
    "            if error:  # <5>\n",
    "                msg = error.format(cls_name=cls.__name__, attr_name=name)\n",
    "                raise AttributeError(msg)\n",
    "        super().__setattr__(name, value)  # <6>\n",
    "        \n",
    "    def __hash__(self):\n",
    "        hashes=(hash(x) for x in self._component)\n",
    "        return functools.reduce(operator.xor,hashes,0)#0是初始值"
   ]
  },
  {
   "cell_type": "code",
   "execution_count": 75,
   "metadata": {},
   "outputs": [],
   "source": [
    "#使用zipheall函数实现Vector.__eq__方法\n",
    "def __eq__(self,other):\n",
    "    return len(self)==len(other) and all(a==b for a,b in zip(self,other))\n"
   ]
  },
  {
   "cell_type": "code",
   "execution_count": 76,
   "metadata": {},
   "outputs": [
    {
     "data": {
      "text/plain": [
       "<zip at 0x289c85db048>"
      ]
     },
     "execution_count": 76,
     "metadata": {},
     "output_type": "execute_result"
    }
   ],
   "source": [
    "#出色的zip\n",
    "zip(range(3),'ABC')"
   ]
  },
  {
   "cell_type": "code",
   "execution_count": 77,
   "metadata": {},
   "outputs": [
    {
     "data": {
      "text/plain": [
       "[(0, 'A'), (1, 'B'), (2, 'C')]"
      ]
     },
     "execution_count": 77,
     "metadata": {},
     "output_type": "execute_result"
    }
   ],
   "source": [
    "list(zip(range(3),'ABC'))"
   ]
  },
  {
   "cell_type": "code",
   "execution_count": 80,
   "metadata": {},
   "outputs": [
    {
     "data": {
      "text/plain": [
       "[(0, 'A', 0), (1, 'B', 1), (2, 'C', 2)]"
      ]
     },
     "execution_count": 80,
     "metadata": {},
     "output_type": "execute_result"
    }
   ],
   "source": [
    "list(zip(range(3),'ABC',[0,1,2,3]))"
   ]
  },
  {
   "cell_type": "code",
   "execution_count": 81,
   "metadata": {},
   "outputs": [
    {
     "data": {
      "text/plain": [
       "[(0, 'A', 0), (1, 'B', 1), (2, 'C', 2), (None, None, 3)]"
      ]
     },
     "execution_count": 81,
     "metadata": {},
     "output_type": "execute_result"
    }
   ],
   "source": [
    "from itertools import zip_longest\n",
    "list(zip_longest(range(3),'ABC',[0,1,2,3]))"
   ]
  },
  {
   "cell_type": "markdown",
   "metadata": {},
   "source": [
    "10.7 Vector类第五版：格式化"
   ]
  },
  {
   "cell_type": "code",
   "execution_count": null,
   "metadata": {},
   "outputs": [],
   "source": [
    "\n",
    "from array import array\n",
    "import reprlib\n",
    "import math\n",
    "import numbers\n",
    "import functools\n",
    "import operator\n",
    "import itertools\n",
    "\n",
    "#序列类型的构造方法最后接受可迭代的对象为参数，因为所有内置的序列类型都是这样\n",
    "class Vector:\n",
    "    typecode='d'\n",
    "    shotcut_names = 'xyzt'\n",
    "    \n",
    "    def __getattr__(self, name):\n",
    "        cls=type(self)\n",
    "        if len(name)==1:\n",
    "            pos=cls.shotcut_names.find(name)\n",
    "            if 0<=pos<len(self._component):\n",
    "                return self._component[pos]\n",
    "        msg='{.__name__!r} object has no arrtibute {!r}'\n",
    "        raise AttributeError(msg.format(cls,name))\n",
    "        \n",
    "    \n",
    "    def __init__(self,components):\n",
    "        self._component = array(self.typecode,components)\n",
    "    \n",
    "    def __iter__(self):\n",
    "        return iter(self._component)\n",
    "    \n",
    "    def __repr__(self):\n",
    "        components = reprlib.repr(self._component)#reprlib模块可以生成长度有限的表示形式\n",
    "        components = components[components.find('['):-1]#把字符串插入Vector的构造方法调用之前，去掉前面arra('d'和后面的)\n",
    "        return 'Vector({})'.format(components)\n",
    "    \n",
    "    def __str__(self):\n",
    "        return str(tuple(self))\n",
    "    \n",
    "    def __bytes__(self):\n",
    "        return (bytes[ord(self.typecode)])+bytes(self._component)\n",
    "    \n",
    "    def __eq__(self, other):\n",
    "        if len(self) != len(other):\n",
    "            return False\n",
    "        for a,b in zip(self,other):#zip函数生成一个由元祖构成的生成器\n",
    "            if a!=b:\n",
    "                return False\n",
    "        return True\n",
    "    \n",
    "    def __abs__(self):\n",
    "        return math.sqrt(sum(x*x for x in self))\n",
    "    \n",
    "    def __bool__(self):\n",
    "        return bool(abs(self))\n",
    "    \n",
    "    @classmethod\n",
    "    def frombytes(cls,octets):\n",
    "        typecode=chr(octets[0])\n",
    "        memv = memoryview(octets[1:]).cast(typecode)\n",
    "        return cls(memv)#不用像上一章一样使用*拆包，因为Vector是可迭代的\n",
    "    \n",
    "    def __len__(self):\n",
    "        return len(self._component)\n",
    "    \n",
    "    def __getitem__(self, index):\n",
    "        cls=type(self)\n",
    "        if isinstance(index,slice):\n",
    "            return cls(self._component[index])\n",
    "        elif isinstance(index,numbers.Integral):\n",
    "            return self._component[index]\n",
    "        else:\n",
    "            msg='{cls.__name__} indices must be itegers'\n",
    "            raise TypeError(msg.format(cls=cls))  \n",
    "      \n",
    "     #注意，我们没有禁止为所有全部属性赋值，只是禁止为单个小写字母属性赋值，以防与只读属性x,y,z,t混淆   \n",
    "    def __setattr__(self, name, value):\n",
    "        cls = type(self)\n",
    "        if len(name) == 1:  # <1>\n",
    "            if name in cls.shotcut_names:  # <2>\n",
    "                error = 'readonly attribute {attr_name!r}'\n",
    "            elif name.islower():  # <3>\n",
    "                error = \"can't set attributes 'a' to 'z' in {cls_name!r}\"\n",
    "            else:\n",
    "                error = ''  # <4>\n",
    "            if error:  # <5>\n",
    "                msg = error.format(cls_name=cls.__name__, attr_name=name)\n",
    "                raise AttributeError(msg)\n",
    "        super().__setattr__(name, value)  # <6>\n",
    "        \n",
    "    def __hash__(self):\n",
    "        hashes=(hash(x) for x in self._component)\n",
    "        return functools.reduce(operator.xor,hashes,0)#0是初始值\n",
    "    \n",
    "    \n",
    "    def angle(self, n):  # <2>\n",
    "        r = math.sqrt(sum(x * x for x in self[n:]))\n",
    "        a = math.atan2(r, self[n-1])\n",
    "        if (n == len(self) - 1) and (self[-1] < 0):\n",
    "            return math.pi * 2 - a\n",
    "        else:\n",
    "            return a\n",
    "\n",
    "    def angles(self):  # <3>\n",
    "        return (self.angle(n) for n in range(1, len(self)))\n",
    "\n",
    "    def __format__(self, fmt_spec=''):\n",
    "        if fmt_spec.endswith('h'):  # hyperspherical coordinates\n",
    "            fmt_spec = fmt_spec[:-1]\n",
    "            coords = itertools.chain([abs(self)],\n",
    "                                     self.angles())  # <4>\n",
    "            outer_fmt = '<{}>'  # <5>\n",
    "        else:\n",
    "            coords = self\n",
    "            outer_fmt = '({})'  # <6>\n",
    "        components = (format(c, fmt_spec) for c in coords)  # <7>\n",
    "        return outer_fmt.format(', '.join(components))  # <8>"
   ]
  }
 ],
 "metadata": {
  "kernelspec": {
   "display_name": "Python 2",
   "language": "python",
   "name": "python2"
  },
  "language_info": {
   "codemirror_mode": {
    "name": "ipython",
    "version": 2
   },
   "file_extension": ".py",
   "mimetype": "text/x-python",
   "name": "python",
   "nbconvert_exporter": "python",
   "pygments_lexer": "ipython2",
   "version": "2.7.6"
  }
 },
 "nbformat": 4,
 "nbformat_minor": 0
}
