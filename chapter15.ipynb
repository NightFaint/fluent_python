{
 "cells": [
  {
   "cell_type": "markdown",
   "metadata": {
    "collapsed": true
   },
   "source": [
    "第15章上下文管理器和else块"
   ]
  },
  {
   "cell_type": "markdown",
   "metadata": {},
   "source": [
    "15.1先做这个，再做这个：if语句之外的else块"
   ]
  },
  {
   "cell_type": "code",
   "execution_count": 2,
   "metadata": {},
   "outputs": [
    {
     "ename": "ValueError",
     "evalue": "No banana",
     "traceback": [
      "\u001b[1;31m---------------------------------------------------------------------------\u001b[0m",
      "\u001b[1;31mValueError\u001b[0m                                Traceback (most recent call last)",
      "\u001b[1;32m<ipython-input-2-9efbc67c58ef>\u001b[0m in \u001b[0;36m<module>\u001b[1;34m()\u001b[0m\n\u001b[0;32m      5\u001b[0m         \u001b[1;32mbreak\u001b[0m\u001b[1;33m\u001b[0m\u001b[0m\n\u001b[0;32m      6\u001b[0m \u001b[1;32melse\u001b[0m\u001b[1;33m:\u001b[0m\u001b[1;33m\u001b[0m\u001b[0m\n\u001b[1;32m----> 7\u001b[1;33m     \u001b[1;32mraise\u001b[0m \u001b[0mValueError\u001b[0m\u001b[1;33m(\u001b[0m\u001b[1;34m'No banana'\u001b[0m\u001b[1;33m)\u001b[0m\u001b[1;33m\u001b[0m\u001b[0m\n\u001b[0m",
      "\u001b[1;31mValueError\u001b[0m: No banana"
     ],
     "output_type": "error"
    }
   ],
   "source": [
    "#for/else;for循环没有被break语句终止才运行else块\n",
    "# while/else;while循环没被break语句终止才运行else块\n",
    "# try/else，没抛出异常才运行else块\n",
    "my_list=['apple','peach','grape','tomato']\n",
    "for i in my_list:\n",
    "    if i == 'banana':\n",
    "        break\n",
    "else:\n",
    "    raise ValueError('No banana')"
   ]
  },
  {
   "cell_type": "code",
   "execution_count": 3,
   "metadata": {},
   "outputs": [],
   "source": [
    "my_list=['apple','peach','grape','banana','tomato']\n",
    "for i in my_list:\n",
    "    if i == 'banana':\n",
    "        break\n",
    "else:\n",
    "    raise ValueError('No banana')"
   ]
  },
  {
   "cell_type": "markdown",
   "metadata": {},
   "source": [
    "15.2 上下文管理器和with块"
   ]
  },
  {
   "cell_type": "code",
   "execution_count": 19,
   "metadata": {},
   "outputs": [
    {
     "data": {
      "text/plain": [
       "60"
      ]
     },
     "execution_count": 19,
     "metadata": {},
     "output_type": "execute_result"
    }
   ],
   "source": [
    "with open(r'D:\\WORKSPACE2\\python35\\python8.25\\fluent_python\\mirror.py') as fp:#返回TextIOWrapper类的实例\n",
    "    src=fp.read(60)\n",
    "len(src)"
   ]
  },
  {
   "cell_type": "code",
   "execution_count": 20,
   "metadata": {},
   "outputs": [
    {
     "data": {
      "text/plain": [
       "<_io.TextIOWrapper name='D:\\\\WORKSPACE2\\\\python35\\\\python8.25\\\\fluent_python\\\\mirror.py' mode='r' encoding='cp936'>"
      ]
     },
     "execution_count": 20,
     "metadata": {},
     "output_type": "execute_result"
    }
   ],
   "source": [
    "fp"
   ]
  },
  {
   "cell_type": "code",
   "execution_count": 21,
   "metadata": {},
   "outputs": [
    {
     "data": {
      "text/plain": [
       "(True, 'cp936')"
      ]
     },
     "execution_count": 21,
     "metadata": {},
     "output_type": "execute_result"
    }
   ],
   "source": [
    "fp.closed,fp.encoding#fp对象仍然可用"
   ]
  },
  {
   "cell_type": "code",
   "execution_count": 22,
   "metadata": {},
   "outputs": [
    {
     "ename": "ValueError",
     "evalue": "I/O operation on closed file.",
     "traceback": [
      "\u001b[1;31m---------------------------------------------------------------------------\u001b[0m",
      "\u001b[1;31mValueError\u001b[0m                                Traceback (most recent call last)",
      "\u001b[1;32m<ipython-input-22-7bdc11f756e6>\u001b[0m in \u001b[0;36m<module>\u001b[1;34m()\u001b[0m\n\u001b[1;32m----> 1\u001b[1;33m \u001b[0mfp\u001b[0m\u001b[1;33m.\u001b[0m\u001b[0mread\u001b[0m\u001b[1;33m(\u001b[0m\u001b[1;36m60\u001b[0m\u001b[1;33m)\u001b[0m\u001b[1;31m#不能在fp上执行I/O操作，因为在with块的末尾，调用TextIOWrapper.__exit__方法吧文件关闭了\u001b[0m\u001b[1;33m\u001b[0m\u001b[0m\n\u001b[0m",
      "\u001b[1;31mValueError\u001b[0m: I/O operation on closed file."
     ],
     "output_type": "error"
    }
   ],
   "source": [
    "fp.read(60)#不能在fp上执行I/O操作，因为在with块的末尾，调用TextIOWrapper.__exit__方法吧文件关闭了"
   ]
  },
  {
   "cell_type": "code",
   "execution_count": 1,
   "metadata": {},
   "outputs": [],
   "source": [
    "import sys\n",
    "sys.path.insert(0,r'D:\\WORKSPACE2\\python35\\python8.25\\fluent_python')\n"
   ]
  },
  {
   "cell_type": "code",
   "execution_count": 2,
   "metadata": {},
   "outputs": [
    {
     "name": "stdout",
     "output_type": "stream",
     "text": [
      "pordwonS dna yttiK,ecilA\nYKCOWREBBAJ\n"
     ]
    }
   ],
   "source": [
    "#测试LookingGlass上下文管理器类\n",
    "#强调了上下文管理器与__enter__方法返回的对象之间的区别\n",
    "from mirror import LookingGlass\n",
    "with LookingGlass() as what:#上下文管理器是LookingGlass类的实例；python在上下文管理器上调用__enter__方法，把返回的结果绑定到what上\n",
    "    print('Alice,Kitty and Snowdrop')#打印内容是反的\n",
    "    print(what)"
   ]
  },
  {
   "cell_type": "code",
   "execution_count": 3,
   "metadata": {},
   "outputs": [
    {
     "data": {
      "text/plain": [
       "'JABBERWOCKY'"
      ]
     },
     "execution_count": 3,
     "metadata": {},
     "output_type": "execute_result"
    }
   ],
   "source": [
    "what#现在with模块以及执行完毕。可以看出__enter__方法返回的值——即存储在what变量中值是字符串'JABBERWOCKY'"
   ]
  },
  {
   "cell_type": "code",
   "execution_count": 4,
   "metadata": {},
   "outputs": [],
   "source": [
    "print('back to normal')"
   ]
  },
  {
   "cell_type": "code",
   "execution_count": 3,
   "metadata": {},
   "outputs": [
    {
     "data": {
      "text/plain": [
       "<mirror.LookingGlass at 0x20fa166bb38>"
      ]
     },
     "execution_count": 3,
     "metadata": {},
     "output_type": "execute_result"
    }
   ],
   "source": [
    "from mirror import LookingGlass\n",
    "manager=LookingGlass()\n",
    "manager"
   ]
  },
  {
   "cell_type": "code",
   "execution_count": 4,
   "metadata": {},
   "outputs": [
    {
     "data": {
      "text/plain": [
       "True"
      ]
     },
     "execution_count": 4,
     "metadata": {},
     "output_type": "execute_result"
    }
   ],
   "source": [
    "monster=manager.__enter__()\n",
    "monster == 'JABBERWOCKY'"
   ]
  },
  {
   "cell_type": "code",
   "execution_count": 5,
   "metadata": {},
   "outputs": [],
   "source": [
    "manager.__exit__(None,None,None)"
   ]
  },
  {
   "cell_type": "code",
   "execution_count": 6,
   "metadata": {},
   "outputs": [
    {
     "data": {
      "text/plain": [
       "'JABBERWOCKY'"
      ]
     },
     "execution_count": 6,
     "metadata": {},
     "output_type": "execute_result"
    }
   ],
   "source": [
    "monster"
   ]
  },
  {
   "cell_type": "markdown",
   "metadata": {},
   "source": [
    "15.4 使用@contextmanager"
   ]
  },
  {
   "cell_type": "code",
   "execution_count": 3,
   "metadata": {},
   "outputs": [],
   "source": [
    "import contextlib\n",
    "@contextlib.contextmanager\n",
    "def looking_glass():\n",
    "    import sys\n",
    "    original_write=sys.stdout.write\n",
    "    \n",
    "    def reverves_write(text):\n",
    "        original_write(text[::-1])\n",
    "    sys.stdout.write=reverves_write\n",
    "    yield 'JABBERWOCKY'#产出一个值绑定到with语句中as子句的目标变量上，执行with块代码时，这个函数会在这里暂停\n",
    "    sys.stdout.write=original_write#控制权一旦跳出with块，继续执行yield语句后的代码"
   ]
  },
  {
   "cell_type": "code",
   "execution_count": 4,
   "metadata": {},
   "outputs": [
    {
     "name": "stdout",
     "output_type": "stream",
     "text": [
      "yttiK,ecilA\nYKCOWREBBAJ\n"
     ]
    }
   ],
   "source": [
    "with looking_glass() as what:\n",
    "    print('Alice,Kitty')\n",
    "    print(what)"
   ]
  },
  {
   "cell_type": "code",
   "execution_count": 5,
   "metadata": {},
   "outputs": [
    {
     "data": {
      "text/plain": [
       "'JABBERWOCKY'"
      ]
     },
     "execution_count": 5,
     "metadata": {},
     "output_type": "execute_result"
    }
   ],
   "source": [
    "what"
   ]
  },
  {
   "cell_type": "code",
   "execution_count": 6,
   "metadata": {},
   "outputs": [],
   "source": [
    "#实现异常处理\n",
    "import contextlib\n",
    "@contextlib.contextmanager\n",
    "def looking_glass():\n",
    "    import sys\n",
    "    original_write=sys.stdout.write\n",
    "    \n",
    "    def reverves_write(text):\n",
    "        original_write(text[::-1])\n",
    "    sys.stdout.write=reverves_write\n",
    "    msg=''\n",
    "    try:\n",
    "        yield 'JABBERWOCKY'#产出一个值绑定到with语句中as子句的目标变量上，执行with块代码时，这个函数会在这里暂停\n",
    "    except ZeroDivisionError:\n",
    "        msg='PLEASE do not divide by zero'\n",
    "    finally:\n",
    "        sys.stdout.write=original_write#控制权一旦跳出with块，继续执行yield语句后的代码\n",
    "        if msg:\n",
    "            print(msg)"
   ]
  },
  {
   "cell_type": "code",
   "execution_count": null,
   "metadata": {},
   "outputs": [],
   "source": []
  }
 ],
 "metadata": {
  "kernelspec": {
   "display_name": "Python 2",
   "language": "python",
   "name": "python2"
  },
  "language_info": {
   "codemirror_mode": {
    "name": "ipython",
    "version": 2
   },
   "file_extension": ".py",
   "mimetype": "text/x-python",
   "name": "python",
   "nbconvert_exporter": "python",
   "pygments_lexer": "ipython2",
   "version": "2.7.6"
  }
 },
 "nbformat": 4,
 "nbformat_minor": 0
}
