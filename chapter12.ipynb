{
 "cells": [
  {
   "cell_type": "markdown",
   "metadata": {
    "collapsed": true
   },
   "source": [
    "第十二章继承的优缺点"
   ]
  },
  {
   "cell_type": "markdown",
   "metadata": {},
   "source": [
    "12.1  子类化内置类型很麻烦"
   ]
  },
  {
   "cell_type": "code",
   "execution_count": 1,
   "metadata": {},
   "outputs": [],
   "source": [
    "#基本上，内置类型不会调用子类覆盖的方法\n",
    "#内置类型的dict的__init__和__update__方法会忽略我们覆盖的__setitem__方法\n",
    "class DoppelDict(dict):\n",
    "    def __setitem__(self,key,value):\n",
    "        super().__setitem__(key,[value]*2)\n",
    "dd=DoppelDict(one=1)"
   ]
  },
  {
   "cell_type": "code",
   "execution_count": 2,
   "metadata": {},
   "outputs": [
    {
     "data": {
      "text/plain": [
       "{'one': 1}"
      ]
     },
     "execution_count": 2,
     "metadata": {},
     "output_type": "execute_result"
    }
   ],
   "source": [
    "dd"
   ]
  },
  {
   "cell_type": "code",
   "execution_count": 3,
   "metadata": {},
   "outputs": [],
   "source": [
    "dd['two']=2"
   ]
  },
  {
   "cell_type": "code",
   "execution_count": 4,
   "metadata": {},
   "outputs": [
    {
     "data": {
      "text/plain": [
       "{'one': 1, 'two': [2, 2]}"
      ]
     },
     "execution_count": 4,
     "metadata": {},
     "output_type": "execute_result"
    }
   ],
   "source": [
    "dd"
   ]
  },
  {
   "cell_type": "code",
   "execution_count": 5,
   "metadata": {},
   "outputs": [
    {
     "data": {
      "text/plain": [
       "{'one': 1, 'three': 3, 'two': [2, 2]}"
      ]
     },
     "execution_count": 5,
     "metadata": {},
     "output_type": "execute_result"
    }
   ],
   "source": [
    "dd.update(three=3)\n",
    "dd"
   ]
  },
  {
   "cell_type": "markdown",
   "metadata": {},
   "source": [
    "不只是实例内部有这个问题(self.get()不调用self.__getitem__()）,内置类型的方法调用的其他类的方法，如果被覆盖了，也不会被调用"
   ]
  },
  {
   "cell_type": "code",
   "execution_count": 6,
   "metadata": {},
   "outputs": [
    {
     "data": {
      "text/plain": [
       "42"
      ]
     },
     "execution_count": 6,
     "metadata": {},
     "output_type": "execute_result"
    }
   ],
   "source": [
    "#dict.update方法会忽略AnswerDict.__getitem__方法\n",
    "class AnswerDict(dict):\n",
    "    def __getitem__(self, item):\n",
    "        return  42\n",
    "ad=AnswerDict(a='foo')\n",
    "ad['a']#符合预期"
   ]
  },
  {
   "cell_type": "code",
   "execution_count": 9,
   "metadata": {},
   "outputs": [
    {
     "data": {
      "text/plain": [
       "{'one': 42}"
      ]
     },
     "execution_count": 9,
     "metadata": {},
     "output_type": "execute_result"
    }
   ],
   "source": [
    "dd=AnswerDict(one=1)\n",
    "dd #会调用__getitem__方法"
   ]
  },
  {
   "cell_type": "code",
   "execution_count": 10,
   "metadata": {},
   "outputs": [
    {
     "data": {
      "text/plain": [
       "{'one': 42, 'three': 42}"
      ]
     },
     "execution_count": 10,
     "metadata": {},
     "output_type": "execute_result"
    }
   ],
   "source": [
    "dd.update(three=3)\n",
    "dd#同上"
   ]
  },
  {
   "cell_type": "code",
   "execution_count": 11,
   "metadata": {},
   "outputs": [
    {
     "data": {
      "text/plain": [
       "'foo'"
      ]
     },
     "execution_count": 11,
     "metadata": {},
     "output_type": "execute_result"
    }
   ],
   "source": [
    "d={}\n",
    "d.update(ad)#d是dict的实例，使用ad中的值更新d\n",
    "d['a']#dict.update方法忽略了AnswerDict.__getitem__方法\n"
   ]
  },
  {
   "cell_type": "markdown",
   "metadata": {},
   "source": [
    "不要子类化内置类型！用户自己定义的类应该继承collection模块UserDict,UserList,UserString"
   ]
  },
  {
   "cell_type": "code",
   "execution_count": 12,
   "metadata": {},
   "outputs": [
    {
     "data": {
      "text/plain": [
       "{'one': [1, 1]}"
      ]
     },
     "execution_count": 12,
     "metadata": {},
     "output_type": "execute_result"
    }
   ],
   "source": [
    "import collections\n",
    "class DoppelDict2(collections.UserDict):\n",
    "    def __setitem__(self, key, value):\n",
    "        super().__setitem__(key,[value]*2)\n",
    "dd=DoppelDict2(one=1)\n",
    "dd"
   ]
  },
  {
   "cell_type": "code",
   "execution_count": 13,
   "metadata": {},
   "outputs": [
    {
     "data": {
      "text/plain": [
       "{'one': [1, 1], 'two': [2, 2]}"
      ]
     },
     "execution_count": 13,
     "metadata": {},
     "output_type": "execute_result"
    }
   ],
   "source": [
    "dd['two']=2\n",
    "dd"
   ]
  },
  {
   "cell_type": "code",
   "execution_count": 15,
   "metadata": {},
   "outputs": [
    {
     "data": {
      "text/plain": [
       "{'one': [1, 1], 'three': [3, 3], 'two': [2, 2]}"
      ]
     },
     "execution_count": 15,
     "metadata": {},
     "output_type": "execute_result"
    }
   ],
   "source": [
    "dd.update(three=3)\n",
    "dd"
   ]
  },
  {
   "cell_type": "code",
   "execution_count": 17,
   "metadata": {},
   "outputs": [
    {
     "data": {
      "text/plain": [
       "42"
      ]
     },
     "execution_count": 17,
     "metadata": {},
     "output_type": "execute_result"
    }
   ],
   "source": [
    "class AnswerDict2(collections.UserDict):\n",
    "    def __getitem__(self, item):\n",
    "        return  42\n",
    "ad=AnswerDict2(a='foo')\n",
    "ad['a']"
   ]
  },
  {
   "cell_type": "code",
   "execution_count": 18,
   "metadata": {},
   "outputs": [
    {
     "data": {
      "text/plain": [
       "{'a': 'foo'}"
      ]
     },
     "execution_count": 18,
     "metadata": {},
     "output_type": "execute_result"
    }
   ],
   "source": [
    "ad"
   ]
  },
  {
   "cell_type": "code",
   "execution_count": 19,
   "metadata": {},
   "outputs": [
    {
     "data": {
      "text/plain": [
       "42"
      ]
     },
     "execution_count": 19,
     "metadata": {},
     "output_type": "execute_result"
    }
   ],
   "source": [
    "d={}\n",
    "d.update(ad)\n",
    "d['a']"
   ]
  },
  {
   "cell_type": "code",
   "execution_count": 20,
   "metadata": {},
   "outputs": [
    {
     "data": {
      "text/plain": [
       "{'a': 42}"
      ]
     },
     "execution_count": 20,
     "metadata": {},
     "output_type": "execute_result"
    }
   ],
   "source": [
    "d"
   ]
  },
  {
   "cell_type": "markdown",
   "metadata": {},
   "source": [
    "12.2 多重继承和方法解析顺序"
   ]
  },
  {
   "cell_type": "code",
   "execution_count": 21,
   "metadata": {},
   "outputs": [],
   "source": [
    "#菱形问题：多重继承，由不相关的祖先类实现同名方法引起命名冲突\n",
    "class A:\n",
    "    def ping(self):\n",
    "        print('ping:', self)\n",
    "\n",
    "\n",
    "class B(A):\n",
    "    def pong(self):\n",
    "        print('pong:', self)\n",
    "\n",
    "\n",
    "class C(A):\n",
    "    def pong(self):\n",
    "        print('PONG:', self)\n",
    "\n",
    "\n",
    "class D(B, C):\n",
    "\n",
    "    def ping(self):\n",
    "        super().ping()\n",
    "        print('post-ping:', self)\n",
    "\n",
    "    def pingpong(self):\n",
    "        self.ping()\n",
    "        super().ping()\n",
    "        self.pong()\n",
    "        super().pong()\n",
    "        C.pong(self)"
   ]
  },
  {
   "cell_type": "code",
   "execution_count": 22,
   "metadata": {},
   "outputs": [
    {
     "name": "stdout",
     "output_type": "stream",
     "text": [
      "pong: <__main__.D object at 0x0000017F45ABF048>\n"
     ]
    }
   ],
   "source": [
    "d=D()\n",
    "d.pong() #直接调用d.pong()运行的是B类中的版本"
   ]
  },
  {
   "cell_type": "code",
   "execution_count": 23,
   "metadata": {},
   "outputs": [
    {
     "name": "stdout",
     "output_type": "stream",
     "text": [
      "PONG: <__main__.D object at 0x0000017F45ABF048>\n"
     ]
    }
   ],
   "source": [
    "C.pong(d) #超类中的方法可以直接调用，此时要把实例作为显式参数传入"
   ]
  },
  {
   "cell_type": "code",
   "execution_count": 25,
   "metadata": {},
   "outputs": [
    {
     "data": {
      "text/plain": [
       "(__main__.D, __main__.B, __main__.C, __main__.A, object)"
      ]
     },
     "execution_count": 25,
     "metadata": {},
     "output_type": "execute_result"
    }
   ],
   "source": [
    "D.__mro__#元组，按照解析顺序列出各个超类"
   ]
  },
  {
   "cell_type": "code",
   "execution_count": 28,
   "metadata": {},
   "outputs": [],
   "source": [
    "#若想把方法委托给超类，推荐使用内置的super()函数，如D类的pingpong方法，但有时需要绕过方法解析顺序,D.ping可以这样写\n",
    "def ping(self):\n",
    "    A.ping(self) #而不是super().ping()\n",
    "    print('post-ping',self)\n"
   ]
  },
  {
   "cell_type": "code",
   "execution_count": 29,
   "metadata": {},
   "outputs": [
    {
     "name": "stdout",
     "output_type": "stream",
     "text": [
      "ping: <__main__.D object at 0x0000017F45ABF048>\npost-ping: <__main__.D object at 0x0000017F45ABF048>\n"
     ]
    }
   ],
   "source": [
    "d.ping()\n",
    "#D类的ping方法做了两次调用\n",
    "#第一个调用时super().ping();super函数把ping调用委托给A类，这一行有A.ping输出\n",
    "#第二个调用时print('post-ping',self)"
   ]
  },
  {
   "cell_type": "code",
   "execution_count": 30,
   "metadata": {},
   "outputs": [
    {
     "name": "stdout",
     "output_type": "stream",
     "text": [
      "ping: <__main__.D object at 0x0000017F45ABF048>\npost-ping: <__main__.D object at 0x0000017F45ABF048>\nping: <__main__.D object at 0x0000017F45ABF048>\npong: <__main__.D object at 0x0000017F45ABF048>\npong: <__main__.D object at 0x0000017F45ABF048>\nPONG: <__main__.D object at 0x0000017F45ABF048>\n"
     ]
    }
   ],
   "source": [
    "d.pingpong()"
   ]
  },
  {
   "cell_type": "code",
   "execution_count": 31,
   "metadata": {},
   "outputs": [],
   "source": [
    "#共5个调用\n",
    "#第一个是self.ping()输出第一行和第二行\n",
    "#第二个是super().ping()，跳过D类的ping方法，找到A类的ping方法\n",
    "#第三个是self.pong()，根据__mro__，找到的是B类实现的pong方法\n",
    "#第四个是super().pong(),也根据__mro__找到B的pong方法\n",
    "#第五个是C.pong(self),忽略__mro__，找到C的pong方法"
   ]
  },
  {
   "cell_type": "code",
   "execution_count": 32,
   "metadata": {},
   "outputs": [
    {
     "data": {
      "text/plain": [
       "(bool, int, object)"
      ]
     },
     "execution_count": 32,
     "metadata": {},
     "output_type": "execute_result"
    }
   ],
   "source": [
    "#如果D类声明为class D(C,B):，那么D类的__mro__属性会不一样：先搜索C，再搜素B.分析类时，可先查看__mro__属性\n",
    "bool.__mro__"
   ]
  },
  {
   "cell_type": "code",
   "execution_count": 33,
   "metadata": {},
   "outputs": [
    {
     "data": {
      "text/plain": [
       "(list, object)"
      ]
     },
     "execution_count": 33,
     "metadata": {},
     "output_type": "execute_result"
    }
   ],
   "source": [
    "list.__mro__"
   ]
  },
  {
   "cell_type": "code",
   "execution_count": 34,
   "metadata": {},
   "outputs": [
    {
     "data": {
      "text/plain": [
       "(numbers.Integral,\n numbers.Rational,\n numbers.Real,\n numbers.Complex,\n numbers.Number,\n object)"
      ]
     },
     "execution_count": 34,
     "metadata": {},
     "output_type": "execute_result"
    }
   ],
   "source": [
    "import numbers\n",
    "numbers.Integral.__mro__"
   ]
  },
  {
   "cell_type": "code",
   "execution_count": 35,
   "metadata": {},
   "outputs": [
    {
     "data": {
      "text/plain": [
       "(_io.BytesIO, _io._BufferedIOBase, _io._IOBase, object)"
      ]
     },
     "execution_count": 35,
     "metadata": {},
     "output_type": "execute_result"
    }
   ],
   "source": [
    "import io\n",
    "io.BytesIO.__mro__#后缀为Base的是抽象基类"
   ]
  },
  {
   "cell_type": "code",
   "execution_count": 36,
   "metadata": {},
   "outputs": [
    {
     "data": {
      "text/plain": [
       "(tkinter.Text,\n tkinter.Widget,\n tkinter.BaseWidget,\n tkinter.Misc,\n tkinter.Pack,\n tkinter.Place,\n tkinter.Grid,\n tkinter.XView,\n tkinter.YView,\n object)"
      ]
     },
     "execution_count": 36,
     "metadata": {},
     "output_type": "execute_result"
    }
   ],
   "source": [
    "import tkinter\n",
    "tkinter.Text.__mro__"
   ]
  },
  {
   "cell_type": "code",
   "execution_count": null,
   "metadata": {},
   "outputs": [],
   "source": []
  }
 ],
 "metadata": {
  "kernelspec": {
   "display_name": "Python 2",
   "language": "python",
   "name": "python2"
  },
  "language_info": {
   "codemirror_mode": {
    "name": "ipython",
    "version": 2
   },
   "file_extension": ".py",
   "mimetype": "text/x-python",
   "name": "python",
   "nbconvert_exporter": "python",
   "pygments_lexer": "ipython2",
   "version": "2.7.6"
  }
 },
 "nbformat": 4,
 "nbformat_minor": 0
}
